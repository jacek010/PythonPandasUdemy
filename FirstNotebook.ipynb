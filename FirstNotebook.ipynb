{
 "cells": [
  {
   "cell_type": "markdown",
   "source": [
    "# Header 1"
   ],
   "metadata": {
    "collapsed": false
   },
   "id": "6353d9d0d623f38"
  },
  {
   "cell_type": "code",
   "execution_count": 4,
   "id": "initial_id",
   "metadata": {
    "collapsed": true,
    "ExecuteTime": {
     "end_time": "2024-03-20T09:24:38.536790Z",
     "start_time": "2024-03-20T09:24:38.533684Z"
    }
   },
   "outputs": [
    {
     "name": "stdout",
     "output_type": "stream",
     "text": [
      "13179 37478\n"
     ]
    }
   ],
   "source": [
    "print(\"Hello\")"
   ]
  },
  {
   "cell_type": "markdown",
   "source": [
    "## Header 2"
   ],
   "metadata": {
    "collapsed": false
   },
   "id": "97b387a8aff99a2d"
  },
  {
   "cell_type": "markdown",
   "source": [
    "- *ee*\n",
    "- **www**\n",
    "- aaa"
   ],
   "metadata": {
    "collapsed": false
   },
   "id": "e6f3dfb59d35c342"
  },
  {
   "cell_type": "markdown",
   "source": [],
   "metadata": {
    "collapsed": false
   },
   "id": "49fda8bf4bd183b7"
  },
  {
   "cell_type": "markdown",
   "source": [
    "$$e^X=\\sum_{i=0}^5 $$"
   ],
   "metadata": {
    "collapsed": false
   },
   "id": "439d7bee06d9533b"
  },
  {
   "cell_type": "markdown",
   "source": [],
   "metadata": {
    "collapsed": false
   },
   "id": "92f7f34774b0d631"
  }
 ],
 "metadata": {
  "kernelspec": {
   "display_name": "Python 3",
   "language": "python",
   "name": "python3"
  },
  "language_info": {
   "codemirror_mode": {
    "name": "ipython",
    "version": 2
   },
   "file_extension": ".py",
   "mimetype": "text/x-python",
   "name": "python",
   "nbconvert_exporter": "python",
   "pygments_lexer": "ipython2",
   "version": "2.7.6"
  }
 },
 "nbformat": 4,
 "nbformat_minor": 5
}
