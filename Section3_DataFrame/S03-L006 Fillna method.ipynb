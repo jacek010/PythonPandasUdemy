{
 "cells": [
  {
   "cell_type": "code",
   "execution_count": 11,
   "id": "initial_id",
   "metadata": {
    "collapsed": true,
    "ExecuteTime": {
     "end_time": "2024-03-28T13:49:26.384418Z",
     "start_time": "2024-03-28T13:49:26.300683Z"
    }
   },
   "outputs": [
    {
     "data": {
      "text/plain": "            Year        Make               Model                        Class  \\\nVehicle ID                                                                      \n26587       1984  Alfa Romeo           GT V6 2.5             Minicompact Cars   \n27705       1984  Alfa Romeo           GT V6 2.5             Minicompact Cars   \n26561       1984  Alfa Romeo  Spider Veloce 2000                  Two Seaters   \n27681       1984  Alfa Romeo  Spider Veloce 2000                  Two Seaters   \n27550       1984  AM General   DJ Po Vehicle 2WD  Special Purpose Vehicle 2WD   \n...          ...         ...                 ...                          ...   \n32060       2012  Mitsubishi              Lancer                 Compact Cars   \n32063       2012  Mitsubishi          Lancer AWD                 Compact Cars   \n32065       2012  Mitsubishi    Lancer Evolution                 Compact Cars   \n32064       2012  Mitsubishi    Lancer Evolution                 Compact Cars   \n32106       2012   Mitsubish                 NaN                          NaN   \n\n           Fuel Type  Combined MPG (FT1)  \nVehicle ID                                \n26587        Regular                20.0  \n27705        Regular                20.0  \n26561        Regular                21.0  \n27681        Regular                21.0  \n27550        Regular                17.0  \n...              ...                 ...  \n32060        Regular                25.0  \n32063        Regular                25.0  \n32065        Premium                19.0  \n32064        Premium                19.0  \n32106            NaN                 NaN  \n\n[31684 rows x 6 columns]",
      "text/html": "<div>\n<style scoped>\n    .dataframe tbody tr th:only-of-type {\n        vertical-align: middle;\n    }\n\n    .dataframe tbody tr th {\n        vertical-align: top;\n    }\n\n    .dataframe thead th {\n        text-align: right;\n    }\n</style>\n<table border=\"1\" class=\"dataframe\">\n  <thead>\n    <tr style=\"text-align: right;\">\n      <th></th>\n      <th>Year</th>\n      <th>Make</th>\n      <th>Model</th>\n      <th>Class</th>\n      <th>Fuel Type</th>\n      <th>Combined MPG (FT1)</th>\n    </tr>\n    <tr>\n      <th>Vehicle ID</th>\n      <th></th>\n      <th></th>\n      <th></th>\n      <th></th>\n      <th></th>\n      <th></th>\n    </tr>\n  </thead>\n  <tbody>\n    <tr>\n      <th>26587</th>\n      <td>1984</td>\n      <td>Alfa Romeo</td>\n      <td>GT V6 2.5</td>\n      <td>Minicompact Cars</td>\n      <td>Regular</td>\n      <td>20.0</td>\n    </tr>\n    <tr>\n      <th>27705</th>\n      <td>1984</td>\n      <td>Alfa Romeo</td>\n      <td>GT V6 2.5</td>\n      <td>Minicompact Cars</td>\n      <td>Regular</td>\n      <td>20.0</td>\n    </tr>\n    <tr>\n      <th>26561</th>\n      <td>1984</td>\n      <td>Alfa Romeo</td>\n      <td>Spider Veloce 2000</td>\n      <td>Two Seaters</td>\n      <td>Regular</td>\n      <td>21.0</td>\n    </tr>\n    <tr>\n      <th>27681</th>\n      <td>1984</td>\n      <td>Alfa Romeo</td>\n      <td>Spider Veloce 2000</td>\n      <td>Two Seaters</td>\n      <td>Regular</td>\n      <td>21.0</td>\n    </tr>\n    <tr>\n      <th>27550</th>\n      <td>1984</td>\n      <td>AM General</td>\n      <td>DJ Po Vehicle 2WD</td>\n      <td>Special Purpose Vehicle 2WD</td>\n      <td>Regular</td>\n      <td>17.0</td>\n    </tr>\n    <tr>\n      <th>...</th>\n      <td>...</td>\n      <td>...</td>\n      <td>...</td>\n      <td>...</td>\n      <td>...</td>\n      <td>...</td>\n    </tr>\n    <tr>\n      <th>32060</th>\n      <td>2012</td>\n      <td>Mitsubishi</td>\n      <td>Lancer</td>\n      <td>Compact Cars</td>\n      <td>Regular</td>\n      <td>25.0</td>\n    </tr>\n    <tr>\n      <th>32063</th>\n      <td>2012</td>\n      <td>Mitsubishi</td>\n      <td>Lancer AWD</td>\n      <td>Compact Cars</td>\n      <td>Regular</td>\n      <td>25.0</td>\n    </tr>\n    <tr>\n      <th>32065</th>\n      <td>2012</td>\n      <td>Mitsubishi</td>\n      <td>Lancer Evolution</td>\n      <td>Compact Cars</td>\n      <td>Premium</td>\n      <td>19.0</td>\n    </tr>\n    <tr>\n      <th>32064</th>\n      <td>2012</td>\n      <td>Mitsubishi</td>\n      <td>Lancer Evolution</td>\n      <td>Compact Cars</td>\n      <td>Premium</td>\n      <td>19.0</td>\n    </tr>\n    <tr>\n      <th>32106</th>\n      <td>2012</td>\n      <td>Mitsubish</td>\n      <td>NaN</td>\n      <td>NaN</td>\n      <td>NaN</td>\n      <td>NaN</td>\n    </tr>\n  </tbody>\n</table>\n<p>31684 rows × 6 columns</p>\n</div>"
     },
     "execution_count": 11,
     "metadata": {},
     "output_type": "execute_result"
    }
   ],
   "source": [
    "import pandas as pd\n",
    "import numpy as np\n",
    "import matplotlib.pyplot as plt\n",
    "import math\n",
    "\n",
    "fuel = pd.read_csv('../course-files/fuel.csv', usecols=['Vehicle ID','Year','Make','Model','Class','Fuel Type','Combined MPG (FT1)'], index_col='Vehicle ID', low_memory=False)\n",
    "\n",
    "fuel"
   ]
  },
  {
   "cell_type": "code",
   "outputs": [
    {
     "data": {
      "text/plain": "            Year        Make               Model                        Class  \\\nVehicle ID                                                                      \n26587       1984  Alfa Romeo           GT V6 2.5             Minicompact Cars   \n27705       1984  Alfa Romeo           GT V6 2.5                          NaN   \n26561       1984  Alfa Romeo  Spider Veloce 2000                          NaN   \n27681       1984  Alfa Romeo  Spider Veloce 2000                  Two Seaters   \n27550       1984  AM General   DJ Po Vehicle 2WD  Special Purpose Vehicle 2WD   \n...          ...         ...                 ...                          ...   \n32060       2012  Mitsubishi              Lancer                 Compact Cars   \n32063       2012  Mitsubishi          Lancer AWD                 Compact Cars   \n32065       2012  Mitsubishi    Lancer Evolution                 Compact Cars   \n32064       2012  Mitsubishi    Lancer Evolution                 Compact Cars   \n32106       2012   Mitsubish                 NaN                            ?   \n\n           Fuel Type  Combined MPG (FT1)  \nVehicle ID                                \n26587        Regular           20.000000  \n27705        Regular                 NaN  \n26561        Regular           21.000000  \n27681        Regular                 NaN  \n27550            NaN           17.000000  \n...              ...                 ...  \n32060        Regular           25.000000  \n32063        Regular           25.000000  \n32065        Premium           19.000000  \n32064        Premium           19.000000  \n32106              ?           19.444178  \n\n[31684 rows x 6 columns]",
      "text/html": "<div>\n<style scoped>\n    .dataframe tbody tr th:only-of-type {\n        vertical-align: middle;\n    }\n\n    .dataframe tbody tr th {\n        vertical-align: top;\n    }\n\n    .dataframe thead th {\n        text-align: right;\n    }\n</style>\n<table border=\"1\" class=\"dataframe\">\n  <thead>\n    <tr style=\"text-align: right;\">\n      <th></th>\n      <th>Year</th>\n      <th>Make</th>\n      <th>Model</th>\n      <th>Class</th>\n      <th>Fuel Type</th>\n      <th>Combined MPG (FT1)</th>\n    </tr>\n    <tr>\n      <th>Vehicle ID</th>\n      <th></th>\n      <th></th>\n      <th></th>\n      <th></th>\n      <th></th>\n      <th></th>\n    </tr>\n  </thead>\n  <tbody>\n    <tr>\n      <th>26587</th>\n      <td>1984</td>\n      <td>Alfa Romeo</td>\n      <td>GT V6 2.5</td>\n      <td>Minicompact Cars</td>\n      <td>Regular</td>\n      <td>20.000000</td>\n    </tr>\n    <tr>\n      <th>27705</th>\n      <td>1984</td>\n      <td>Alfa Romeo</td>\n      <td>GT V6 2.5</td>\n      <td>NaN</td>\n      <td>Regular</td>\n      <td>NaN</td>\n    </tr>\n    <tr>\n      <th>26561</th>\n      <td>1984</td>\n      <td>Alfa Romeo</td>\n      <td>Spider Veloce 2000</td>\n      <td>NaN</td>\n      <td>Regular</td>\n      <td>21.000000</td>\n    </tr>\n    <tr>\n      <th>27681</th>\n      <td>1984</td>\n      <td>Alfa Romeo</td>\n      <td>Spider Veloce 2000</td>\n      <td>Two Seaters</td>\n      <td>Regular</td>\n      <td>NaN</td>\n    </tr>\n    <tr>\n      <th>27550</th>\n      <td>1984</td>\n      <td>AM General</td>\n      <td>DJ Po Vehicle 2WD</td>\n      <td>Special Purpose Vehicle 2WD</td>\n      <td>NaN</td>\n      <td>17.000000</td>\n    </tr>\n    <tr>\n      <th>...</th>\n      <td>...</td>\n      <td>...</td>\n      <td>...</td>\n      <td>...</td>\n      <td>...</td>\n      <td>...</td>\n    </tr>\n    <tr>\n      <th>32060</th>\n      <td>2012</td>\n      <td>Mitsubishi</td>\n      <td>Lancer</td>\n      <td>Compact Cars</td>\n      <td>Regular</td>\n      <td>25.000000</td>\n    </tr>\n    <tr>\n      <th>32063</th>\n      <td>2012</td>\n      <td>Mitsubishi</td>\n      <td>Lancer AWD</td>\n      <td>Compact Cars</td>\n      <td>Regular</td>\n      <td>25.000000</td>\n    </tr>\n    <tr>\n      <th>32065</th>\n      <td>2012</td>\n      <td>Mitsubishi</td>\n      <td>Lancer Evolution</td>\n      <td>Compact Cars</td>\n      <td>Premium</td>\n      <td>19.000000</td>\n    </tr>\n    <tr>\n      <th>32064</th>\n      <td>2012</td>\n      <td>Mitsubishi</td>\n      <td>Lancer Evolution</td>\n      <td>Compact Cars</td>\n      <td>Premium</td>\n      <td>19.000000</td>\n    </tr>\n    <tr>\n      <th>32106</th>\n      <td>2012</td>\n      <td>Mitsubish</td>\n      <td>NaN</td>\n      <td>?</td>\n      <td>?</td>\n      <td>19.444178</td>\n    </tr>\n  </tbody>\n</table>\n<p>31684 rows × 6 columns</p>\n</div>"
     },
     "execution_count": 21,
     "metadata": {},
     "output_type": "execute_result"
    }
   ],
   "source": [
    "fuel.loc[27705, 'Class'] = np.NaN \n",
    "fuel.loc[26561, 'Class'] = np.NaN \n",
    "fuel.loc[27550, 'Fuel Type'] = np.NaN\n",
    "fuel.loc[27705, 'Combined MPG (FT1)'] = np.NaN \n",
    "fuel.loc[27681, 'Combined MPG (FT1)'] = np.NaN\n",
    "\n",
    "fuel"
   ],
   "metadata": {
    "collapsed": false,
    "ExecuteTime": {
     "end_time": "2024-03-28T13:51:36.579646Z",
     "start_time": "2024-03-28T13:51:36.568413Z"
    }
   },
   "id": "6cd273ee275558c",
   "execution_count": 21
  },
  {
   "cell_type": "code",
   "outputs": [
    {
     "data": {
      "text/plain": "            Year        Make               Model                        Class  \\\nVehicle ID                                                                      \n26587       1984  Alfa Romeo           GT V6 2.5             Minicompact Cars   \n27705       1984  Alfa Romeo           GT V6 2.5                           -1   \n26561       1984  Alfa Romeo  Spider Veloce 2000                           -1   \n27681       1984  Alfa Romeo  Spider Veloce 2000                  Two Seaters   \n27550       1984  AM General   DJ Po Vehicle 2WD  Special Purpose Vehicle 2WD   \n...          ...         ...                 ...                          ...   \n32060       2012  Mitsubishi              Lancer                 Compact Cars   \n32063       2012  Mitsubishi          Lancer AWD                 Compact Cars   \n32065       2012  Mitsubishi    Lancer Evolution                 Compact Cars   \n32064       2012  Mitsubishi    Lancer Evolution                 Compact Cars   \n32106       2012   Mitsubish                  -1                           -1   \n\n           Fuel Type  Combined MPG (FT1)  \nVehicle ID                                \n26587        Regular                20.0  \n27705        Regular                -1.0  \n26561        Regular                21.0  \n27681        Regular                -1.0  \n27550             -1                17.0  \n...              ...                 ...  \n32060        Regular                25.0  \n32063        Regular                25.0  \n32065        Premium                19.0  \n32064        Premium                19.0  \n32106             -1                -1.0  \n\n[31684 rows x 6 columns]",
      "text/html": "<div>\n<style scoped>\n    .dataframe tbody tr th:only-of-type {\n        vertical-align: middle;\n    }\n\n    .dataframe tbody tr th {\n        vertical-align: top;\n    }\n\n    .dataframe thead th {\n        text-align: right;\n    }\n</style>\n<table border=\"1\" class=\"dataframe\">\n  <thead>\n    <tr style=\"text-align: right;\">\n      <th></th>\n      <th>Year</th>\n      <th>Make</th>\n      <th>Model</th>\n      <th>Class</th>\n      <th>Fuel Type</th>\n      <th>Combined MPG (FT1)</th>\n    </tr>\n    <tr>\n      <th>Vehicle ID</th>\n      <th></th>\n      <th></th>\n      <th></th>\n      <th></th>\n      <th></th>\n      <th></th>\n    </tr>\n  </thead>\n  <tbody>\n    <tr>\n      <th>26587</th>\n      <td>1984</td>\n      <td>Alfa Romeo</td>\n      <td>GT V6 2.5</td>\n      <td>Minicompact Cars</td>\n      <td>Regular</td>\n      <td>20.0</td>\n    </tr>\n    <tr>\n      <th>27705</th>\n      <td>1984</td>\n      <td>Alfa Romeo</td>\n      <td>GT V6 2.5</td>\n      <td>-1</td>\n      <td>Regular</td>\n      <td>-1.0</td>\n    </tr>\n    <tr>\n      <th>26561</th>\n      <td>1984</td>\n      <td>Alfa Romeo</td>\n      <td>Spider Veloce 2000</td>\n      <td>-1</td>\n      <td>Regular</td>\n      <td>21.0</td>\n    </tr>\n    <tr>\n      <th>27681</th>\n      <td>1984</td>\n      <td>Alfa Romeo</td>\n      <td>Spider Veloce 2000</td>\n      <td>Two Seaters</td>\n      <td>Regular</td>\n      <td>-1.0</td>\n    </tr>\n    <tr>\n      <th>27550</th>\n      <td>1984</td>\n      <td>AM General</td>\n      <td>DJ Po Vehicle 2WD</td>\n      <td>Special Purpose Vehicle 2WD</td>\n      <td>-1</td>\n      <td>17.0</td>\n    </tr>\n    <tr>\n      <th>...</th>\n      <td>...</td>\n      <td>...</td>\n      <td>...</td>\n      <td>...</td>\n      <td>...</td>\n      <td>...</td>\n    </tr>\n    <tr>\n      <th>32060</th>\n      <td>2012</td>\n      <td>Mitsubishi</td>\n      <td>Lancer</td>\n      <td>Compact Cars</td>\n      <td>Regular</td>\n      <td>25.0</td>\n    </tr>\n    <tr>\n      <th>32063</th>\n      <td>2012</td>\n      <td>Mitsubishi</td>\n      <td>Lancer AWD</td>\n      <td>Compact Cars</td>\n      <td>Regular</td>\n      <td>25.0</td>\n    </tr>\n    <tr>\n      <th>32065</th>\n      <td>2012</td>\n      <td>Mitsubishi</td>\n      <td>Lancer Evolution</td>\n      <td>Compact Cars</td>\n      <td>Premium</td>\n      <td>19.0</td>\n    </tr>\n    <tr>\n      <th>32064</th>\n      <td>2012</td>\n      <td>Mitsubishi</td>\n      <td>Lancer Evolution</td>\n      <td>Compact Cars</td>\n      <td>Premium</td>\n      <td>19.0</td>\n    </tr>\n    <tr>\n      <th>32106</th>\n      <td>2012</td>\n      <td>Mitsubish</td>\n      <td>-1</td>\n      <td>-1</td>\n      <td>-1</td>\n      <td>-1.0</td>\n    </tr>\n  </tbody>\n</table>\n<p>31684 rows × 6 columns</p>\n</div>"
     },
     "execution_count": 13,
     "metadata": {},
     "output_type": "execute_result"
    }
   ],
   "source": [
    "fuel.fillna(value=-1)"
   ],
   "metadata": {
    "collapsed": false,
    "ExecuteTime": {
     "end_time": "2024-03-28T13:49:26.399581Z",
     "start_time": "2024-03-28T13:49:26.391148Z"
    }
   },
   "id": "ab6ab884a51721ae",
   "execution_count": 13
  },
  {
   "cell_type": "code",
   "outputs": [
    {
     "data": {
      "text/plain": "            Year        Make               Model                        Class  \\\nVehicle ID                                                                      \n26587       1984  Alfa Romeo           GT V6 2.5             Minicompact Cars   \n27705       1984  Alfa Romeo           GT V6 2.5                          ---   \n26561       1984  Alfa Romeo  Spider Veloce 2000                          ---   \n27681       1984  Alfa Romeo  Spider Veloce 2000                  Two Seaters   \n27550       1984  AM General   DJ Po Vehicle 2WD  Special Purpose Vehicle 2WD   \n...          ...         ...                 ...                          ...   \n32060       2012  Mitsubishi              Lancer                 Compact Cars   \n32063       2012  Mitsubishi          Lancer AWD                 Compact Cars   \n32065       2012  Mitsubishi    Lancer Evolution                 Compact Cars   \n32064       2012  Mitsubishi    Lancer Evolution                 Compact Cars   \n32106       2012   Mitsubish                 NaN                          ---   \n\n           Fuel Type  Combined MPG (FT1)  \nVehicle ID                                \n26587        Regular                20.0  \n27705        Regular                -1.0  \n26561        Regular                21.0  \n27681        Regular                -1.0  \n27550            ---                17.0  \n...              ...                 ...  \n32060        Regular                25.0  \n32063        Regular                25.0  \n32065        Premium                19.0  \n32064        Premium                19.0  \n32106            ---                -1.0  \n\n[31684 rows x 6 columns]",
      "text/html": "<div>\n<style scoped>\n    .dataframe tbody tr th:only-of-type {\n        vertical-align: middle;\n    }\n\n    .dataframe tbody tr th {\n        vertical-align: top;\n    }\n\n    .dataframe thead th {\n        text-align: right;\n    }\n</style>\n<table border=\"1\" class=\"dataframe\">\n  <thead>\n    <tr style=\"text-align: right;\">\n      <th></th>\n      <th>Year</th>\n      <th>Make</th>\n      <th>Model</th>\n      <th>Class</th>\n      <th>Fuel Type</th>\n      <th>Combined MPG (FT1)</th>\n    </tr>\n    <tr>\n      <th>Vehicle ID</th>\n      <th></th>\n      <th></th>\n      <th></th>\n      <th></th>\n      <th></th>\n      <th></th>\n    </tr>\n  </thead>\n  <tbody>\n    <tr>\n      <th>26587</th>\n      <td>1984</td>\n      <td>Alfa Romeo</td>\n      <td>GT V6 2.5</td>\n      <td>Minicompact Cars</td>\n      <td>Regular</td>\n      <td>20.0</td>\n    </tr>\n    <tr>\n      <th>27705</th>\n      <td>1984</td>\n      <td>Alfa Romeo</td>\n      <td>GT V6 2.5</td>\n      <td>---</td>\n      <td>Regular</td>\n      <td>-1.0</td>\n    </tr>\n    <tr>\n      <th>26561</th>\n      <td>1984</td>\n      <td>Alfa Romeo</td>\n      <td>Spider Veloce 2000</td>\n      <td>---</td>\n      <td>Regular</td>\n      <td>21.0</td>\n    </tr>\n    <tr>\n      <th>27681</th>\n      <td>1984</td>\n      <td>Alfa Romeo</td>\n      <td>Spider Veloce 2000</td>\n      <td>Two Seaters</td>\n      <td>Regular</td>\n      <td>-1.0</td>\n    </tr>\n    <tr>\n      <th>27550</th>\n      <td>1984</td>\n      <td>AM General</td>\n      <td>DJ Po Vehicle 2WD</td>\n      <td>Special Purpose Vehicle 2WD</td>\n      <td>---</td>\n      <td>17.0</td>\n    </tr>\n    <tr>\n      <th>...</th>\n      <td>...</td>\n      <td>...</td>\n      <td>...</td>\n      <td>...</td>\n      <td>...</td>\n      <td>...</td>\n    </tr>\n    <tr>\n      <th>32060</th>\n      <td>2012</td>\n      <td>Mitsubishi</td>\n      <td>Lancer</td>\n      <td>Compact Cars</td>\n      <td>Regular</td>\n      <td>25.0</td>\n    </tr>\n    <tr>\n      <th>32063</th>\n      <td>2012</td>\n      <td>Mitsubishi</td>\n      <td>Lancer AWD</td>\n      <td>Compact Cars</td>\n      <td>Regular</td>\n      <td>25.0</td>\n    </tr>\n    <tr>\n      <th>32065</th>\n      <td>2012</td>\n      <td>Mitsubishi</td>\n      <td>Lancer Evolution</td>\n      <td>Compact Cars</td>\n      <td>Premium</td>\n      <td>19.0</td>\n    </tr>\n    <tr>\n      <th>32064</th>\n      <td>2012</td>\n      <td>Mitsubishi</td>\n      <td>Lancer Evolution</td>\n      <td>Compact Cars</td>\n      <td>Premium</td>\n      <td>19.0</td>\n    </tr>\n    <tr>\n      <th>32106</th>\n      <td>2012</td>\n      <td>Mitsubish</td>\n      <td>NaN</td>\n      <td>---</td>\n      <td>---</td>\n      <td>-1.0</td>\n    </tr>\n  </tbody>\n</table>\n<p>31684 rows × 6 columns</p>\n</div>"
     },
     "execution_count": 14,
     "metadata": {},
     "output_type": "execute_result"
    }
   ],
   "source": [
    "replaceRules = {\n",
    "    'Class': '---',\n",
    "    'Fuel Type': '---',\n",
    "    'Combined MPG (FT1)': -1\n",
    "}\n",
    "fuel.fillna(replaceRules)"
   ],
   "metadata": {
    "collapsed": false,
    "ExecuteTime": {
     "end_time": "2024-03-28T13:49:26.407761Z",
     "start_time": "2024-03-28T13:49:26.400854Z"
    }
   },
   "id": "7033b06cfc4fdce7",
   "execution_count": 14
  },
  {
   "cell_type": "code",
   "outputs": [
    {
     "data": {
      "text/plain": "19.444177898424922"
     },
     "execution_count": 17,
     "metadata": {},
     "output_type": "execute_result"
    }
   ],
   "source": [
    "avgMPG = fuel['Combined MPG (FT1)'].mean()\n",
    "avgMPG"
   ],
   "metadata": {
    "collapsed": false,
    "ExecuteTime": {
     "end_time": "2024-03-28T13:50:47.973967Z",
     "start_time": "2024-03-28T13:50:47.969114Z"
    }
   },
   "id": "57b780b45d70b372",
   "execution_count": 17
  },
  {
   "cell_type": "code",
   "outputs": [
    {
     "name": "stderr",
     "output_type": "stream",
     "text": [
      "/var/folders/d0/wrz8q2z550b8976zczrt1n080000gn/T/ipykernel_25680/1612993938.py:3: FutureWarning: A value is trying to be set on a copy of a DataFrame or Series through chained assignment using an inplace method.\n",
      "The behavior will change in pandas 3.0. This inplace method will never work because the intermediate object on which we are setting values always behaves as a copy.\n",
      "\n",
      "For example, when doing 'df[col].method(value, inplace=True)', try using 'df.method({col: value}, inplace=True)' or df[col] = df[col].method(value) instead, to perform the operation inplace on the original object.\n",
      "\n",
      "\n",
      "  fuel['Combined MPG (FT1)'].fillna(avgMPG, inplace=True)\n"
     ]
    },
    {
     "data": {
      "text/plain": "            Year        Make               Model                        Class  \\\nVehicle ID                                                                      \n26587       1984  Alfa Romeo           GT V6 2.5             Minicompact Cars   \n27705       1984  Alfa Romeo           GT V6 2.5                            ?   \n26561       1984  Alfa Romeo  Spider Veloce 2000                            ?   \n27681       1984  Alfa Romeo  Spider Veloce 2000                  Two Seaters   \n27550       1984  AM General   DJ Po Vehicle 2WD  Special Purpose Vehicle 2WD   \n\n           Fuel Type  Combined MPG (FT1)  \nVehicle ID                                \n26587        Regular           20.000000  \n27705        Regular           19.444178  \n26561        Regular           21.000000  \n27681        Regular           19.444178  \n27550              ?           17.000000  ",
      "text/html": "<div>\n<style scoped>\n    .dataframe tbody tr th:only-of-type {\n        vertical-align: middle;\n    }\n\n    .dataframe tbody tr th {\n        vertical-align: top;\n    }\n\n    .dataframe thead th {\n        text-align: right;\n    }\n</style>\n<table border=\"1\" class=\"dataframe\">\n  <thead>\n    <tr style=\"text-align: right;\">\n      <th></th>\n      <th>Year</th>\n      <th>Make</th>\n      <th>Model</th>\n      <th>Class</th>\n      <th>Fuel Type</th>\n      <th>Combined MPG (FT1)</th>\n    </tr>\n    <tr>\n      <th>Vehicle ID</th>\n      <th></th>\n      <th></th>\n      <th></th>\n      <th></th>\n      <th></th>\n      <th></th>\n    </tr>\n  </thead>\n  <tbody>\n    <tr>\n      <th>26587</th>\n      <td>1984</td>\n      <td>Alfa Romeo</td>\n      <td>GT V6 2.5</td>\n      <td>Minicompact Cars</td>\n      <td>Regular</td>\n      <td>20.000000</td>\n    </tr>\n    <tr>\n      <th>27705</th>\n      <td>1984</td>\n      <td>Alfa Romeo</td>\n      <td>GT V6 2.5</td>\n      <td>?</td>\n      <td>Regular</td>\n      <td>19.444178</td>\n    </tr>\n    <tr>\n      <th>26561</th>\n      <td>1984</td>\n      <td>Alfa Romeo</td>\n      <td>Spider Veloce 2000</td>\n      <td>?</td>\n      <td>Regular</td>\n      <td>21.000000</td>\n    </tr>\n    <tr>\n      <th>27681</th>\n      <td>1984</td>\n      <td>Alfa Romeo</td>\n      <td>Spider Veloce 2000</td>\n      <td>Two Seaters</td>\n      <td>Regular</td>\n      <td>19.444178</td>\n    </tr>\n    <tr>\n      <th>27550</th>\n      <td>1984</td>\n      <td>AM General</td>\n      <td>DJ Po Vehicle 2WD</td>\n      <td>Special Purpose Vehicle 2WD</td>\n      <td>?</td>\n      <td>17.000000</td>\n    </tr>\n  </tbody>\n</table>\n</div>"
     },
     "execution_count": 20,
     "metadata": {},
     "output_type": "execute_result"
    }
   ],
   "source": [
    "fuel['Class'].fillna('?', inplace=True)\n",
    "fuel['Fuel Type'].fillna('?',inplace=True) \n",
    "fuel['Combined MPG (FT1)'].fillna(avgMPG, inplace=True) \n",
    "fuel.head()"
   ],
   "metadata": {
    "collapsed": false,
    "ExecuteTime": {
     "end_time": "2024-03-28T13:51:05.128643Z",
     "start_time": "2024-03-28T13:51:05.119107Z"
    }
   },
   "id": "14dc6e68ea893939",
   "execution_count": 20
  },
  {
   "cell_type": "code",
   "outputs": [
    {
     "name": "stderr",
     "output_type": "stream",
     "text": [
      "/var/folders/d0/wrz8q2z550b8976zczrt1n080000gn/T/ipykernel_25680/2642201465.py:1: FutureWarning: A value is trying to be set on a copy of a DataFrame or Series through chained assignment using an inplace method.\n",
      "The behavior will change in pandas 3.0. This inplace method will never work because the intermediate object on which we are setting values always behaves as a copy.\n",
      "\n",
      "For example, when doing 'df[col].method(value, inplace=True)', try using 'df.method({col: value}, inplace=True)' or df[col] = df[col].method(value) instead, to perform the operation inplace on the original object.\n",
      "\n",
      "\n",
      "  fuel['Combined MPG (FT1)'].fillna(method='ffill', inplace=True)\n",
      "/var/folders/d0/wrz8q2z550b8976zczrt1n080000gn/T/ipykernel_25680/2642201465.py:1: FutureWarning: Series.fillna with 'method' is deprecated and will raise in a future version. Use obj.ffill() or obj.bfill() instead.\n",
      "  fuel['Combined MPG (FT1)'].fillna(method='ffill', inplace=True)\n"
     ]
    },
    {
     "data": {
      "text/plain": "            Year        Make               Model                        Class  \\\nVehicle ID                                                                      \n26587       1984  Alfa Romeo           GT V6 2.5             Minicompact Cars   \n27705       1984  Alfa Romeo           GT V6 2.5                          NaN   \n26561       1984  Alfa Romeo  Spider Veloce 2000                          NaN   \n27681       1984  Alfa Romeo  Spider Veloce 2000                  Two Seaters   \n27550       1984  AM General   DJ Po Vehicle 2WD  Special Purpose Vehicle 2WD   \n\n           Fuel Type  Combined MPG (FT1)  \nVehicle ID                                \n26587        Regular                20.0  \n27705        Regular                20.0  \n26561        Regular                21.0  \n27681        Regular                21.0  \n27550            NaN                17.0  ",
      "text/html": "<div>\n<style scoped>\n    .dataframe tbody tr th:only-of-type {\n        vertical-align: middle;\n    }\n\n    .dataframe tbody tr th {\n        vertical-align: top;\n    }\n\n    .dataframe thead th {\n        text-align: right;\n    }\n</style>\n<table border=\"1\" class=\"dataframe\">\n  <thead>\n    <tr style=\"text-align: right;\">\n      <th></th>\n      <th>Year</th>\n      <th>Make</th>\n      <th>Model</th>\n      <th>Class</th>\n      <th>Fuel Type</th>\n      <th>Combined MPG (FT1)</th>\n    </tr>\n    <tr>\n      <th>Vehicle ID</th>\n      <th></th>\n      <th></th>\n      <th></th>\n      <th></th>\n      <th></th>\n      <th></th>\n    </tr>\n  </thead>\n  <tbody>\n    <tr>\n      <th>26587</th>\n      <td>1984</td>\n      <td>Alfa Romeo</td>\n      <td>GT V6 2.5</td>\n      <td>Minicompact Cars</td>\n      <td>Regular</td>\n      <td>20.0</td>\n    </tr>\n    <tr>\n      <th>27705</th>\n      <td>1984</td>\n      <td>Alfa Romeo</td>\n      <td>GT V6 2.5</td>\n      <td>NaN</td>\n      <td>Regular</td>\n      <td>20.0</td>\n    </tr>\n    <tr>\n      <th>26561</th>\n      <td>1984</td>\n      <td>Alfa Romeo</td>\n      <td>Spider Veloce 2000</td>\n      <td>NaN</td>\n      <td>Regular</td>\n      <td>21.0</td>\n    </tr>\n    <tr>\n      <th>27681</th>\n      <td>1984</td>\n      <td>Alfa Romeo</td>\n      <td>Spider Veloce 2000</td>\n      <td>Two Seaters</td>\n      <td>Regular</td>\n      <td>21.0</td>\n    </tr>\n    <tr>\n      <th>27550</th>\n      <td>1984</td>\n      <td>AM General</td>\n      <td>DJ Po Vehicle 2WD</td>\n      <td>Special Purpose Vehicle 2WD</td>\n      <td>NaN</td>\n      <td>17.0</td>\n    </tr>\n  </tbody>\n</table>\n</div>"
     },
     "execution_count": 22,
     "metadata": {},
     "output_type": "execute_result"
    }
   ],
   "source": [
    "fuel['Combined MPG (FT1)'].fillna(method='ffill', inplace=True)\n",
    "fuel.head()"
   ],
   "metadata": {
    "collapsed": false,
    "ExecuteTime": {
     "end_time": "2024-03-28T13:52:27.956744Z",
     "start_time": "2024-03-28T13:52:27.948597Z"
    }
   },
   "id": "506a0e81dfbe2aae",
   "execution_count": 22
  },
  {
   "cell_type": "code",
   "outputs": [],
   "source": [],
   "metadata": {
    "collapsed": false
   },
   "id": "60c33d6bb4a2dc23"
  }
 ],
 "metadata": {
  "kernelspec": {
   "display_name": "Python 3",
   "language": "python",
   "name": "python3"
  },
  "language_info": {
   "codemirror_mode": {
    "name": "ipython",
    "version": 2
   },
   "file_extension": ".py",
   "mimetype": "text/x-python",
   "name": "python",
   "nbconvert_exporter": "python",
   "pygments_lexer": "ipython2",
   "version": "2.7.6"
  }
 },
 "nbformat": 4,
 "nbformat_minor": 5
}
