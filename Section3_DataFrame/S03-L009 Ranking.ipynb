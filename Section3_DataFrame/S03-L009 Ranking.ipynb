{
 "cells": [
  {
   "cell_type": "code",
   "execution_count": 2,
   "id": "initial_id",
   "metadata": {
    "collapsed": true,
    "ExecuteTime": {
     "end_time": "2024-03-28T16:28:53.551534Z",
     "start_time": "2024-03-28T16:28:53.545202Z"
    }
   },
   "outputs": [
    {
     "data": {
      "text/plain": "                   Title  Employees  Profits  Assets\nRank                                                \n1                Walmart    2300000  13643.0  198825\n2     Berkshire Hathaway     367700  24074.0  620854\n3                  Apple     116000  45687.0  321686\n4            Exxon Mobil      72700   7840.0  330314\n5               McKesson      68000   2258.0   56563\n6     UnitedHealth Group     230000   7017.0  122810\n7             CVS Health     204000   5317.0   94462\n8         General Motors     225000   9427.0  221690\n9                   AT&T     268540  12976.0  403821\n10            Ford Motor     201000   4596.0  237951",
      "text/html": "<div>\n<style scoped>\n    .dataframe tbody tr th:only-of-type {\n        vertical-align: middle;\n    }\n\n    .dataframe tbody tr th {\n        vertical-align: top;\n    }\n\n    .dataframe thead th {\n        text-align: right;\n    }\n</style>\n<table border=\"1\" class=\"dataframe\">\n  <thead>\n    <tr style=\"text-align: right;\">\n      <th></th>\n      <th>Title</th>\n      <th>Employees</th>\n      <th>Profits</th>\n      <th>Assets</th>\n    </tr>\n    <tr>\n      <th>Rank</th>\n      <th></th>\n      <th></th>\n      <th></th>\n      <th></th>\n    </tr>\n  </thead>\n  <tbody>\n    <tr>\n      <th>1</th>\n      <td>Walmart</td>\n      <td>2300000</td>\n      <td>13643.0</td>\n      <td>198825</td>\n    </tr>\n    <tr>\n      <th>2</th>\n      <td>Berkshire Hathaway</td>\n      <td>367700</td>\n      <td>24074.0</td>\n      <td>620854</td>\n    </tr>\n    <tr>\n      <th>3</th>\n      <td>Apple</td>\n      <td>116000</td>\n      <td>45687.0</td>\n      <td>321686</td>\n    </tr>\n    <tr>\n      <th>4</th>\n      <td>Exxon Mobil</td>\n      <td>72700</td>\n      <td>7840.0</td>\n      <td>330314</td>\n    </tr>\n    <tr>\n      <th>5</th>\n      <td>McKesson</td>\n      <td>68000</td>\n      <td>2258.0</td>\n      <td>56563</td>\n    </tr>\n    <tr>\n      <th>6</th>\n      <td>UnitedHealth Group</td>\n      <td>230000</td>\n      <td>7017.0</td>\n      <td>122810</td>\n    </tr>\n    <tr>\n      <th>7</th>\n      <td>CVS Health</td>\n      <td>204000</td>\n      <td>5317.0</td>\n      <td>94462</td>\n    </tr>\n    <tr>\n      <th>8</th>\n      <td>General Motors</td>\n      <td>225000</td>\n      <td>9427.0</td>\n      <td>221690</td>\n    </tr>\n    <tr>\n      <th>9</th>\n      <td>AT&amp;T</td>\n      <td>268540</td>\n      <td>12976.0</td>\n      <td>403821</td>\n    </tr>\n    <tr>\n      <th>10</th>\n      <td>Ford Motor</td>\n      <td>201000</td>\n      <td>4596.0</td>\n      <td>237951</td>\n    </tr>\n  </tbody>\n</table>\n</div>"
     },
     "execution_count": 2,
     "metadata": {},
     "output_type": "execute_result"
    }
   ],
   "source": [
    "import pandas as pd\n",
    "import numpy as np\n",
    "import matplotlib.pyplot as plt\n",
    "import math\n",
    "\n",
    "fortune = pd.read_csv('../course-files/Fortune_500_2017.csv', usecols=['Rank','Title','Employees','Profits','Assets'], index_col='Rank', low_memory=False)\n",
    "\n",
    "fortune.head(10)"
   ]
  },
  {
   "cell_type": "markdown",
   "source": [
    "2. Wylicz ranking tak, aby najniższe wartości były przyznawane firmom z największą ilośćią pracowników (kolumna Employees). Wyświetl nagłówek wyznaczonej serii danych"
   ],
   "metadata": {
    "collapsed": false
   },
   "id": "ef9643d4d37fc255"
  },
  {
   "cell_type": "code",
   "outputs": [
    {
     "data": {
      "text/plain": "Rank\n1      1.0\n2      7.0\n3     57.0\n4     94.0\n5    104.5\nName: Employees, dtype: float64"
     },
     "execution_count": 3,
     "metadata": {},
     "output_type": "execute_result"
    }
   ],
   "source": [
    "fortune['Employees'].rank(ascending=False).head()"
   ],
   "metadata": {
    "collapsed": false,
    "ExecuteTime": {
     "end_time": "2024-03-28T16:29:32.949141Z",
     "start_time": "2024-03-28T16:29:32.943289Z"
    }
   },
   "id": "4266e1066b37c646",
   "execution_count": 3
  },
  {
   "cell_type": "markdown",
   "source": [
    "3. Dodaj do zmiennej frame kolumnę nazwaną 'RankByEmployee', zawierającą powyżej wyznaczony ranking"
   ],
   "metadata": {
    "collapsed": false
   },
   "id": "3ce71a7ab4af45d2"
  },
  {
   "cell_type": "code",
   "outputs": [
    {
     "data": {
      "text/plain": "                   Title  Employees  Profits  Assets  RankByEmployee\nRank                                                                \n1                Walmart    2300000  13643.0  198825             1.0\n2     Berkshire Hathaway     367700  24074.0  620854             7.0\n3                  Apple     116000  45687.0  321686            57.0\n4            Exxon Mobil      72700   7840.0  330314            94.0\n5               McKesson      68000   2258.0   56563           104.5",
      "text/html": "<div>\n<style scoped>\n    .dataframe tbody tr th:only-of-type {\n        vertical-align: middle;\n    }\n\n    .dataframe tbody tr th {\n        vertical-align: top;\n    }\n\n    .dataframe thead th {\n        text-align: right;\n    }\n</style>\n<table border=\"1\" class=\"dataframe\">\n  <thead>\n    <tr style=\"text-align: right;\">\n      <th></th>\n      <th>Title</th>\n      <th>Employees</th>\n      <th>Profits</th>\n      <th>Assets</th>\n      <th>RankByEmployee</th>\n    </tr>\n    <tr>\n      <th>Rank</th>\n      <th></th>\n      <th></th>\n      <th></th>\n      <th></th>\n      <th></th>\n    </tr>\n  </thead>\n  <tbody>\n    <tr>\n      <th>1</th>\n      <td>Walmart</td>\n      <td>2300000</td>\n      <td>13643.0</td>\n      <td>198825</td>\n      <td>1.0</td>\n    </tr>\n    <tr>\n      <th>2</th>\n      <td>Berkshire Hathaway</td>\n      <td>367700</td>\n      <td>24074.0</td>\n      <td>620854</td>\n      <td>7.0</td>\n    </tr>\n    <tr>\n      <th>3</th>\n      <td>Apple</td>\n      <td>116000</td>\n      <td>45687.0</td>\n      <td>321686</td>\n      <td>57.0</td>\n    </tr>\n    <tr>\n      <th>4</th>\n      <td>Exxon Mobil</td>\n      <td>72700</td>\n      <td>7840.0</td>\n      <td>330314</td>\n      <td>94.0</td>\n    </tr>\n    <tr>\n      <th>5</th>\n      <td>McKesson</td>\n      <td>68000</td>\n      <td>2258.0</td>\n      <td>56563</td>\n      <td>104.5</td>\n    </tr>\n  </tbody>\n</table>\n</div>"
     },
     "execution_count": 4,
     "metadata": {},
     "output_type": "execute_result"
    }
   ],
   "source": [
    "fortune['RankByEmployee'] = fortune['Employees'].rank(ascending=False)\n",
    "fortune.head()"
   ],
   "metadata": {
    "collapsed": false,
    "ExecuteTime": {
     "end_time": "2024-03-28T16:31:06.435949Z",
     "start_time": "2024-03-28T16:31:06.429902Z"
    }
   },
   "id": "c0427a068cc5fcaa",
   "execution_count": 4
  },
  {
   "cell_type": "markdown",
   "source": [
    "4. Wylicz ranking tak, aby najniższe wartości były przyznawane firmom z największym zyskiem (kolumna\n",
    "Profits). Wyświetl nagłówek wyznaczonej serii danych"
   ],
   "metadata": {
    "collapsed": false
   },
   "id": "32bb4e1f39d6d138"
  },
  {
   "cell_type": "code",
   "outputs": [
    {
     "data": {
      "text/plain": "Rank\n1     11.0\n2      3.0\n3      1.0\n4     27.0\n5    102.0\nName: Profits, dtype: float64"
     },
     "execution_count": 5,
     "metadata": {},
     "output_type": "execute_result"
    }
   ],
   "source": [
    "fortune['Profits'].rank(ascending=False).head()"
   ],
   "metadata": {
    "collapsed": false,
    "ExecuteTime": {
     "end_time": "2024-03-28T16:31:41.793174Z",
     "start_time": "2024-03-28T16:31:41.788530Z"
    }
   },
   "id": "d2d0d8efc7263b4",
   "execution_count": 5
  },
  {
   "cell_type": "markdown",
   "source": [
    "5. Dodaj do zmiennej frame kolumnę nazwaną 'RankByProfits', zawierającą powyżej wyznaczony ranking"
   ],
   "metadata": {
    "collapsed": false
   },
   "id": "71d29e0a1d5a29f4"
  },
  {
   "cell_type": "code",
   "outputs": [
    {
     "data": {
      "text/plain": "                   Title  Employees  Profits  Assets  RankByEmployee  \\\nRank                                                                   \n1                Walmart    2300000  13643.0  198825             1.0   \n2     Berkshire Hathaway     367700  24074.0  620854             7.0   \n3                  Apple     116000  45687.0  321686            57.0   \n4            Exxon Mobil      72700   7840.0  330314            94.0   \n5               McKesson      68000   2258.0   56563           104.5   \n\n      RankByProfits  \nRank                 \n1              11.0  \n2               3.0  \n3               1.0  \n4              27.0  \n5             102.0  ",
      "text/html": "<div>\n<style scoped>\n    .dataframe tbody tr th:only-of-type {\n        vertical-align: middle;\n    }\n\n    .dataframe tbody tr th {\n        vertical-align: top;\n    }\n\n    .dataframe thead th {\n        text-align: right;\n    }\n</style>\n<table border=\"1\" class=\"dataframe\">\n  <thead>\n    <tr style=\"text-align: right;\">\n      <th></th>\n      <th>Title</th>\n      <th>Employees</th>\n      <th>Profits</th>\n      <th>Assets</th>\n      <th>RankByEmployee</th>\n      <th>RankByProfits</th>\n    </tr>\n    <tr>\n      <th>Rank</th>\n      <th></th>\n      <th></th>\n      <th></th>\n      <th></th>\n      <th></th>\n      <th></th>\n    </tr>\n  </thead>\n  <tbody>\n    <tr>\n      <th>1</th>\n      <td>Walmart</td>\n      <td>2300000</td>\n      <td>13643.0</td>\n      <td>198825</td>\n      <td>1.0</td>\n      <td>11.0</td>\n    </tr>\n    <tr>\n      <th>2</th>\n      <td>Berkshire Hathaway</td>\n      <td>367700</td>\n      <td>24074.0</td>\n      <td>620854</td>\n      <td>7.0</td>\n      <td>3.0</td>\n    </tr>\n    <tr>\n      <th>3</th>\n      <td>Apple</td>\n      <td>116000</td>\n      <td>45687.0</td>\n      <td>321686</td>\n      <td>57.0</td>\n      <td>1.0</td>\n    </tr>\n    <tr>\n      <th>4</th>\n      <td>Exxon Mobil</td>\n      <td>72700</td>\n      <td>7840.0</td>\n      <td>330314</td>\n      <td>94.0</td>\n      <td>27.0</td>\n    </tr>\n    <tr>\n      <th>5</th>\n      <td>McKesson</td>\n      <td>68000</td>\n      <td>2258.0</td>\n      <td>56563</td>\n      <td>104.5</td>\n      <td>102.0</td>\n    </tr>\n  </tbody>\n</table>\n</div>"
     },
     "execution_count": 6,
     "metadata": {},
     "output_type": "execute_result"
    }
   ],
   "source": [
    "fortune['RankByProfits'] = fortune['Profits'].rank(ascending=False)\n",
    "fortune.head()"
   ],
   "metadata": {
    "collapsed": false,
    "ExecuteTime": {
     "end_time": "2024-03-28T16:33:51.518397Z",
     "start_time": "2024-03-28T16:33:51.512971Z"
    }
   },
   "id": "4c135f0b61027e2b",
   "execution_count": 6
  },
  {
   "cell_type": "markdown",
   "source": [
    "6. Wyświetl 3 firmy, które mają największy zasób środków trwałych (kolumna Asset)"
   ],
   "metadata": {
    "collapsed": false
   },
   "id": "8a3101cac868226f"
  },
  {
   "cell_type": "code",
   "outputs": [
    {
     "data": {
      "text/plain": "                      Title  Employees  Profits   Assets  RankByEmployee  \\\nRank                                                                       \n20               Fannie Mae       7000  12313.0  3287968           446.5   \n21        J.P. Morgan Chase     243355  24733.0  2490972            20.0   \n26    Bank of America Corp.     208024  17906.0  2187702            29.0   \n\n      RankByProfits  \nRank                 \n20             15.0  \n21              2.0  \n26              6.0  ",
      "text/html": "<div>\n<style scoped>\n    .dataframe tbody tr th:only-of-type {\n        vertical-align: middle;\n    }\n\n    .dataframe tbody tr th {\n        vertical-align: top;\n    }\n\n    .dataframe thead th {\n        text-align: right;\n    }\n</style>\n<table border=\"1\" class=\"dataframe\">\n  <thead>\n    <tr style=\"text-align: right;\">\n      <th></th>\n      <th>Title</th>\n      <th>Employees</th>\n      <th>Profits</th>\n      <th>Assets</th>\n      <th>RankByEmployee</th>\n      <th>RankByProfits</th>\n    </tr>\n    <tr>\n      <th>Rank</th>\n      <th></th>\n      <th></th>\n      <th></th>\n      <th></th>\n      <th></th>\n      <th></th>\n    </tr>\n  </thead>\n  <tbody>\n    <tr>\n      <th>20</th>\n      <td>Fannie Mae</td>\n      <td>7000</td>\n      <td>12313.0</td>\n      <td>3287968</td>\n      <td>446.5</td>\n      <td>15.0</td>\n    </tr>\n    <tr>\n      <th>21</th>\n      <td>J.P. Morgan Chase</td>\n      <td>243355</td>\n      <td>24733.0</td>\n      <td>2490972</td>\n      <td>20.0</td>\n      <td>2.0</td>\n    </tr>\n    <tr>\n      <th>26</th>\n      <td>Bank of America Corp.</td>\n      <td>208024</td>\n      <td>17906.0</td>\n      <td>2187702</td>\n      <td>29.0</td>\n      <td>6.0</td>\n    </tr>\n  </tbody>\n</table>\n</div>"
     },
     "execution_count": 7,
     "metadata": {},
     "output_type": "execute_result"
    }
   ],
   "source": [
    "fortune.nlargest(n=3, columns='Assets')"
   ],
   "metadata": {
    "collapsed": false,
    "ExecuteTime": {
     "end_time": "2024-03-28T16:34:29.807171Z",
     "start_time": "2024-03-28T16:34:29.801669Z"
    }
   },
   "id": "ed71f8a8e259fd66",
   "execution_count": 7
  },
  {
   "cell_type": "markdown",
   "source": [
    "7. Wyświetl 3 firmy, które mają najmniejszy zasób środków trwałych (kolumna Asset)"
   ],
   "metadata": {
    "collapsed": false
   },
   "id": "2e7ecafada88b0c4"
  },
  {
   "cell_type": "code",
   "outputs": [
    {
     "data": {
      "text/plain": "                       Title  Employees  Profits  Assets  RankByEmployee  \\\nRank                                                                       \n395   A-Mark Precious Metals         83      9.3     437           500.0   \n247        Core-Mark Holding       7688     54.2    1497           434.0   \n495                 Big Lots      23150    152.8    1608           266.0   \n\n      RankByProfits  \nRank                 \n395           434.0  \n247           430.0  \n495           403.0  ",
      "text/html": "<div>\n<style scoped>\n    .dataframe tbody tr th:only-of-type {\n        vertical-align: middle;\n    }\n\n    .dataframe tbody tr th {\n        vertical-align: top;\n    }\n\n    .dataframe thead th {\n        text-align: right;\n    }\n</style>\n<table border=\"1\" class=\"dataframe\">\n  <thead>\n    <tr style=\"text-align: right;\">\n      <th></th>\n      <th>Title</th>\n      <th>Employees</th>\n      <th>Profits</th>\n      <th>Assets</th>\n      <th>RankByEmployee</th>\n      <th>RankByProfits</th>\n    </tr>\n    <tr>\n      <th>Rank</th>\n      <th></th>\n      <th></th>\n      <th></th>\n      <th></th>\n      <th></th>\n      <th></th>\n    </tr>\n  </thead>\n  <tbody>\n    <tr>\n      <th>395</th>\n      <td>A-Mark Precious Metals</td>\n      <td>83</td>\n      <td>9.3</td>\n      <td>437</td>\n      <td>500.0</td>\n      <td>434.0</td>\n    </tr>\n    <tr>\n      <th>247</th>\n      <td>Core-Mark Holding</td>\n      <td>7688</td>\n      <td>54.2</td>\n      <td>1497</td>\n      <td>434.0</td>\n      <td>430.0</td>\n    </tr>\n    <tr>\n      <th>495</th>\n      <td>Big Lots</td>\n      <td>23150</td>\n      <td>152.8</td>\n      <td>1608</td>\n      <td>266.0</td>\n      <td>403.0</td>\n    </tr>\n  </tbody>\n</table>\n</div>"
     },
     "execution_count": 8,
     "metadata": {},
     "output_type": "execute_result"
    }
   ],
   "source": [
    "fortune.nsmallest(n=3, columns='Assets')"
   ],
   "metadata": {
    "collapsed": false,
    "ExecuteTime": {
     "end_time": "2024-03-28T16:34:50.852329Z",
     "start_time": "2024-03-28T16:34:50.846630Z"
    }
   },
   "id": "d254d68a95a49bfb",
   "execution_count": 8
  },
  {
   "cell_type": "code",
   "outputs": [],
   "source": [],
   "metadata": {
    "collapsed": false
   },
   "id": "a13bc4b6ef9d95df"
  }
 ],
 "metadata": {
  "kernelspec": {
   "display_name": "Python 3",
   "language": "python",
   "name": "python3"
  },
  "language_info": {
   "codemirror_mode": {
    "name": "ipython",
    "version": 2
   },
   "file_extension": ".py",
   "mimetype": "text/x-python",
   "name": "python",
   "nbconvert_exporter": "python",
   "pygments_lexer": "ipython2",
   "version": "2.7.6"
  }
 },
 "nbformat": 4,
 "nbformat_minor": 5
}
