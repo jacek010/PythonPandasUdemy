{
 "cells": [
  {
   "cell_type": "code",
   "execution_count": 5,
   "id": "initial_id",
   "metadata": {
    "collapsed": true,
    "ExecuteTime": {
     "end_time": "2024-03-28T12:00:59.343126Z",
     "start_time": "2024-03-28T12:00:59.268375Z"
    }
   },
   "outputs": [
    {
     "data": {
      "text/plain": "            Year                         Make               Model  \\\nVehicle ID                                                          \n26587       1984                   Alfa Romeo           GT V6 2.5   \n27705       1984                   Alfa Romeo           GT V6 2.5   \n26561       1984                   Alfa Romeo  Spider Veloce 2000   \n27681       1984                   Alfa Romeo  Spider Veloce 2000   \n27550       1984                   AM General   DJ Po Vehicle 2WD   \n28426       1984                   AM General   DJ Po Vehicle 2WD   \n27549       1984                   AM General    FJ8c Post Office   \n28425       1984                   AM General    FJ8c Post Office   \n27593       1984  American Motors Corporation           Eagle 4WD   \n28455       1984  American Motors Corporation           Eagle 4WD   \n\n                                  Class Fuel Type  Combined MPG (FT1)  \nVehicle ID                                                             \n26587                  Minicompact Cars   Regular                20.0  \n27705                  Minicompact Cars   Regular                20.0  \n26561                       Two Seaters   Regular                21.0  \n27681                       Two Seaters   Regular                21.0  \n27550       Special Purpose Vehicle 2WD   Regular                17.0  \n28426       Special Purpose Vehicle 2WD   Regular                17.0  \n27549       Special Purpose Vehicle 2WD   Regular                13.0  \n28425       Special Purpose Vehicle 2WD   Regular                13.0  \n27593       Special Purpose Vehicle 4WD   Regular                17.0  \n28455       Special Purpose Vehicle 4WD   Regular                17.0  ",
      "text/html": "<div>\n<style scoped>\n    .dataframe tbody tr th:only-of-type {\n        vertical-align: middle;\n    }\n\n    .dataframe tbody tr th {\n        vertical-align: top;\n    }\n\n    .dataframe thead th {\n        text-align: right;\n    }\n</style>\n<table border=\"1\" class=\"dataframe\">\n  <thead>\n    <tr style=\"text-align: right;\">\n      <th></th>\n      <th>Year</th>\n      <th>Make</th>\n      <th>Model</th>\n      <th>Class</th>\n      <th>Fuel Type</th>\n      <th>Combined MPG (FT1)</th>\n    </tr>\n    <tr>\n      <th>Vehicle ID</th>\n      <th></th>\n      <th></th>\n      <th></th>\n      <th></th>\n      <th></th>\n      <th></th>\n    </tr>\n  </thead>\n  <tbody>\n    <tr>\n      <th>26587</th>\n      <td>1984</td>\n      <td>Alfa Romeo</td>\n      <td>GT V6 2.5</td>\n      <td>Minicompact Cars</td>\n      <td>Regular</td>\n      <td>20.0</td>\n    </tr>\n    <tr>\n      <th>27705</th>\n      <td>1984</td>\n      <td>Alfa Romeo</td>\n      <td>GT V6 2.5</td>\n      <td>Minicompact Cars</td>\n      <td>Regular</td>\n      <td>20.0</td>\n    </tr>\n    <tr>\n      <th>26561</th>\n      <td>1984</td>\n      <td>Alfa Romeo</td>\n      <td>Spider Veloce 2000</td>\n      <td>Two Seaters</td>\n      <td>Regular</td>\n      <td>21.0</td>\n    </tr>\n    <tr>\n      <th>27681</th>\n      <td>1984</td>\n      <td>Alfa Romeo</td>\n      <td>Spider Veloce 2000</td>\n      <td>Two Seaters</td>\n      <td>Regular</td>\n      <td>21.0</td>\n    </tr>\n    <tr>\n      <th>27550</th>\n      <td>1984</td>\n      <td>AM General</td>\n      <td>DJ Po Vehicle 2WD</td>\n      <td>Special Purpose Vehicle 2WD</td>\n      <td>Regular</td>\n      <td>17.0</td>\n    </tr>\n    <tr>\n      <th>28426</th>\n      <td>1984</td>\n      <td>AM General</td>\n      <td>DJ Po Vehicle 2WD</td>\n      <td>Special Purpose Vehicle 2WD</td>\n      <td>Regular</td>\n      <td>17.0</td>\n    </tr>\n    <tr>\n      <th>27549</th>\n      <td>1984</td>\n      <td>AM General</td>\n      <td>FJ8c Post Office</td>\n      <td>Special Purpose Vehicle 2WD</td>\n      <td>Regular</td>\n      <td>13.0</td>\n    </tr>\n    <tr>\n      <th>28425</th>\n      <td>1984</td>\n      <td>AM General</td>\n      <td>FJ8c Post Office</td>\n      <td>Special Purpose Vehicle 2WD</td>\n      <td>Regular</td>\n      <td>13.0</td>\n    </tr>\n    <tr>\n      <th>27593</th>\n      <td>1984</td>\n      <td>American Motors Corporation</td>\n      <td>Eagle 4WD</td>\n      <td>Special Purpose Vehicle 4WD</td>\n      <td>Regular</td>\n      <td>17.0</td>\n    </tr>\n    <tr>\n      <th>28455</th>\n      <td>1984</td>\n      <td>American Motors Corporation</td>\n      <td>Eagle 4WD</td>\n      <td>Special Purpose Vehicle 4WD</td>\n      <td>Regular</td>\n      <td>17.0</td>\n    </tr>\n  </tbody>\n</table>\n</div>"
     },
     "execution_count": 5,
     "metadata": {},
     "output_type": "execute_result"
    }
   ],
   "source": [
    "import pandas as pd\n",
    "import numpy as np\n",
    "import matplotlib.pyplot as plt\n",
    "import math\n",
    "\n",
    "fuel = pd.read_csv('../course-files/fuel.csv', usecols=['Vehicle ID','Year','Make','Model','Class','Fuel Type','Combined MPG (FT1)'], index_col='Vehicle ID', low_memory=False)\n",
    "\n",
    "fuel.head(10)"
   ]
  },
  {
   "cell_type": "code",
   "outputs": [],
   "source": [],
   "metadata": {
    "collapsed": false
   },
   "id": "f657e6c6d7d5def3"
  }
 ],
 "metadata": {
  "kernelspec": {
   "display_name": "Python 3",
   "language": "python",
   "name": "python3"
  },
  "language_info": {
   "codemirror_mode": {
    "name": "ipython",
    "version": 2
   },
   "file_extension": ".py",
   "mimetype": "text/x-python",
   "name": "python",
   "nbconvert_exporter": "python",
   "pygments_lexer": "ipython2",
   "version": "2.7.6"
  }
 },
 "nbformat": 4,
 "nbformat_minor": 5
}
