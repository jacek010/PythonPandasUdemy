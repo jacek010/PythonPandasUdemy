{
 "cells": [
  {
   "cell_type": "code",
   "execution_count": 3,
   "id": "initial_id",
   "metadata": {
    "collapsed": true,
    "ExecuteTime": {
     "end_time": "2024-03-28T14:56:03.963830Z",
     "start_time": "2024-03-28T14:56:03.895674Z"
    }
   },
   "outputs": [
    {
     "data": {
      "text/plain": "            Year                         Make               Model  \\\nVehicle ID                                                          \n26587       1984                   Alfa Romeo           GT V6 2.5   \n27705       1984                   Alfa Romeo           GT V6 2.5   \n26561       1984                   Alfa Romeo  Spider Veloce 2000   \n27681       1984                   Alfa Romeo  Spider Veloce 2000   \n27550       1984                   AM General   DJ Po Vehicle 2WD   \n28426       1984                   AM General   DJ Po Vehicle 2WD   \n27549       1984                   AM General    FJ8c Post Office   \n28425       1984                   AM General    FJ8c Post Office   \n27593       1984  American Motors Corporation           Eagle 4WD   \n28455       1984  American Motors Corporation           Eagle 4WD   \n\n                                  Class Fuel Type  Combined MPG (FT1)  \nVehicle ID                                                             \n26587                  Minicompact Cars   Regular                20.0  \n27705                  Minicompact Cars   Regular                20.0  \n26561                       Two Seaters   Regular                21.0  \n27681                       Two Seaters   Regular                21.0  \n27550       Special Purpose Vehicle 2WD   Regular                17.0  \n28426       Special Purpose Vehicle 2WD   Regular                17.0  \n27549       Special Purpose Vehicle 2WD   Regular                13.0  \n28425       Special Purpose Vehicle 2WD   Regular                13.0  \n27593       Special Purpose Vehicle 4WD   Regular                17.0  \n28455       Special Purpose Vehicle 4WD   Regular                17.0  ",
      "text/html": "<div>\n<style scoped>\n    .dataframe tbody tr th:only-of-type {\n        vertical-align: middle;\n    }\n\n    .dataframe tbody tr th {\n        vertical-align: top;\n    }\n\n    .dataframe thead th {\n        text-align: right;\n    }\n</style>\n<table border=\"1\" class=\"dataframe\">\n  <thead>\n    <tr style=\"text-align: right;\">\n      <th></th>\n      <th>Year</th>\n      <th>Make</th>\n      <th>Model</th>\n      <th>Class</th>\n      <th>Fuel Type</th>\n      <th>Combined MPG (FT1)</th>\n    </tr>\n    <tr>\n      <th>Vehicle ID</th>\n      <th></th>\n      <th></th>\n      <th></th>\n      <th></th>\n      <th></th>\n      <th></th>\n    </tr>\n  </thead>\n  <tbody>\n    <tr>\n      <th>26587</th>\n      <td>1984</td>\n      <td>Alfa Romeo</td>\n      <td>GT V6 2.5</td>\n      <td>Minicompact Cars</td>\n      <td>Regular</td>\n      <td>20.0</td>\n    </tr>\n    <tr>\n      <th>27705</th>\n      <td>1984</td>\n      <td>Alfa Romeo</td>\n      <td>GT V6 2.5</td>\n      <td>Minicompact Cars</td>\n      <td>Regular</td>\n      <td>20.0</td>\n    </tr>\n    <tr>\n      <th>26561</th>\n      <td>1984</td>\n      <td>Alfa Romeo</td>\n      <td>Spider Veloce 2000</td>\n      <td>Two Seaters</td>\n      <td>Regular</td>\n      <td>21.0</td>\n    </tr>\n    <tr>\n      <th>27681</th>\n      <td>1984</td>\n      <td>Alfa Romeo</td>\n      <td>Spider Veloce 2000</td>\n      <td>Two Seaters</td>\n      <td>Regular</td>\n      <td>21.0</td>\n    </tr>\n    <tr>\n      <th>27550</th>\n      <td>1984</td>\n      <td>AM General</td>\n      <td>DJ Po Vehicle 2WD</td>\n      <td>Special Purpose Vehicle 2WD</td>\n      <td>Regular</td>\n      <td>17.0</td>\n    </tr>\n    <tr>\n      <th>28426</th>\n      <td>1984</td>\n      <td>AM General</td>\n      <td>DJ Po Vehicle 2WD</td>\n      <td>Special Purpose Vehicle 2WD</td>\n      <td>Regular</td>\n      <td>17.0</td>\n    </tr>\n    <tr>\n      <th>27549</th>\n      <td>1984</td>\n      <td>AM General</td>\n      <td>FJ8c Post Office</td>\n      <td>Special Purpose Vehicle 2WD</td>\n      <td>Regular</td>\n      <td>13.0</td>\n    </tr>\n    <tr>\n      <th>28425</th>\n      <td>1984</td>\n      <td>AM General</td>\n      <td>FJ8c Post Office</td>\n      <td>Special Purpose Vehicle 2WD</td>\n      <td>Regular</td>\n      <td>13.0</td>\n    </tr>\n    <tr>\n      <th>27593</th>\n      <td>1984</td>\n      <td>American Motors Corporation</td>\n      <td>Eagle 4WD</td>\n      <td>Special Purpose Vehicle 4WD</td>\n      <td>Regular</td>\n      <td>17.0</td>\n    </tr>\n    <tr>\n      <th>28455</th>\n      <td>1984</td>\n      <td>American Motors Corporation</td>\n      <td>Eagle 4WD</td>\n      <td>Special Purpose Vehicle 4WD</td>\n      <td>Regular</td>\n      <td>17.0</td>\n    </tr>\n  </tbody>\n</table>\n</div>"
     },
     "execution_count": 3,
     "metadata": {},
     "output_type": "execute_result"
    }
   ],
   "source": [
    "import pandas as pd\n",
    "import numpy as np\n",
    "import matplotlib.pyplot as plt\n",
    "import math\n",
    "\n",
    "fuel = pd.read_csv('../course-files/fuel.csv', usecols=['Vehicle ID','Year','Make','Model','Class','Fuel Type','Combined MPG (FT1)'], index_col='Vehicle ID', low_memory=False)\n",
    "\n",
    "fuel.head(10)"
   ]
  },
  {
   "cell_type": "code",
   "outputs": [
    {
     "name": "stdout",
     "output_type": "stream",
     "text": [
      "<class 'pandas.core.frame.DataFrame'>\n",
      "Index: 31684 entries, 26587 to 32106\n",
      "Data columns (total 6 columns):\n",
      " #   Column              Non-Null Count  Dtype  \n",
      "---  ------              --------------  -----  \n",
      " 0   Year                31684 non-null  int64  \n",
      " 1   Make                31684 non-null  object \n",
      " 2   Model               31683 non-null  object \n",
      " 3   Class               31683 non-null  object \n",
      " 4   Fuel Type           31683 non-null  object \n",
      " 5   Combined MPG (FT1)  31683 non-null  float64\n",
      "dtypes: float64(1), int64(1), object(4)\n",
      "memory usage: 7.9 MB\n"
     ]
    }
   ],
   "source": [
    "fuel.info(memory_usage='deep')"
   ],
   "metadata": {
    "collapsed": false,
    "ExecuteTime": {
     "end_time": "2024-03-28T14:56:37.067755Z",
     "start_time": "2024-03-28T14:56:37.039511Z"
    }
   },
   "id": "8f460f74ad8fd0fc",
   "execution_count": 5
  },
  {
   "cell_type": "code",
   "outputs": [
    {
     "name": "stdout",
     "output_type": "stream",
     "text": [
      "<class 'pandas.core.frame.DataFrame'>\n",
      "Index: 31684 entries, 26587 to 32106\n",
      "Data columns (total 6 columns):\n",
      " #   Column              Non-Null Count  Dtype  \n",
      "---  ------              --------------  -----  \n",
      " 0   Year                31684 non-null  int64  \n",
      " 1   Make                31684 non-null  object \n",
      " 2   Model               31683 non-null  object \n",
      " 3   Class               31683 non-null  object \n",
      " 4   Fuel Type           31683 non-null  object \n",
      " 5   Combined MPG (FT1)  31683 non-null  float64\n",
      "dtypes: float64(1), int64(1), object(4)\n",
      "memory usage: 7.9 MB\n"
     ]
    }
   ],
   "source": [
    "fuel['Year'] = fuel['Year'].astype('int')\n",
    "fuel.info(memory_usage='deep')"
   ],
   "metadata": {
    "collapsed": false,
    "ExecuteTime": {
     "end_time": "2024-03-28T14:57:26.001664Z",
     "start_time": "2024-03-28T14:57:25.972989Z"
    }
   },
   "id": "154de9c5db55ec63",
   "execution_count": 6
  },
  {
   "cell_type": "code",
   "outputs": [
    {
     "data": {
      "text/plain": "Make\nChevrolet    3389\nFord         2721\nDodge        2361\nGMC          2174\nToyota       1599\nName: count, dtype: int64"
     },
     "execution_count": 7,
     "metadata": {},
     "output_type": "execute_result"
    }
   ],
   "source": [
    "fuel['Make'].value_counts().head()"
   ],
   "metadata": {
    "collapsed": false,
    "ExecuteTime": {
     "end_time": "2024-03-28T14:58:11.059118Z",
     "start_time": "2024-03-28T14:58:11.054685Z"
    }
   },
   "id": "63180caad7ab38da",
   "execution_count": 7
  },
  {
   "cell_type": "code",
   "outputs": [
    {
     "name": "stdout",
     "output_type": "stream",
     "text": [
      "<class 'pandas.core.frame.DataFrame'>\n",
      "Index: 31684 entries, 26587 to 32106\n",
      "Data columns (total 6 columns):\n",
      " #   Column              Non-Null Count  Dtype   \n",
      "---  ------              --------------  -----   \n",
      " 0   Year                31684 non-null  int64   \n",
      " 1   Make                31684 non-null  category\n",
      " 2   Model               31683 non-null  object  \n",
      " 3   Class               31683 non-null  object  \n",
      " 4   Fuel Type           31683 non-null  object  \n",
      " 5   Combined MPG (FT1)  31683 non-null  float64 \n",
      "dtypes: category(1), float64(1), int64(1), object(3)\n",
      "memory usage: 6.3 MB\n"
     ]
    }
   ],
   "source": [
    "fuel['Make'] = fuel['Make'].astype('category')\n",
    "fuel.info(memory_usage='deep')"
   ],
   "metadata": {
    "collapsed": false,
    "ExecuteTime": {
     "end_time": "2024-03-28T14:59:12.070557Z",
     "start_time": "2024-03-28T14:59:12.048233Z"
    }
   },
   "id": "f75b1dc79a2567cc",
   "execution_count": 8
  },
  {
   "cell_type": "code",
   "outputs": [],
   "source": [
    "fuel['Class'] = fuel['Class'].astype('category')\n",
    "fuel['Model'] = fuel['Model'].astype('category')\n",
    "fuel['Fuel Type'] = fuel['Fuel Type'].astype('category')"
   ],
   "metadata": {
    "collapsed": false,
    "ExecuteTime": {
     "end_time": "2024-03-28T15:00:29.460244Z",
     "start_time": "2024-03-28T15:00:29.449372Z"
    }
   },
   "id": "698a0b1f7eedb2ea",
   "execution_count": 9
  },
  {
   "cell_type": "code",
   "outputs": [
    {
     "name": "stdout",
     "output_type": "stream",
     "text": [
      "<class 'pandas.core.frame.DataFrame'>\n",
      "Index: 31684 entries, 26587 to 32106\n",
      "Data columns (total 6 columns):\n",
      " #   Column              Non-Null Count  Dtype   \n",
      "---  ------              --------------  -----   \n",
      " 0   Year                31684 non-null  int64   \n",
      " 1   Make                31684 non-null  category\n",
      " 2   Model               31683 non-null  category\n",
      " 3   Class               31683 non-null  category\n",
      " 4   Fuel Type           31683 non-null  category\n",
      " 5   Combined MPG (FT1)  31683 non-null  float64 \n",
      "dtypes: category(4), float64(1), int64(1)\n",
      "memory usage: 1.2 MB\n"
     ]
    }
   ],
   "source": [
    "fuel.info(memory_usage='deep')"
   ],
   "metadata": {
    "collapsed": false,
    "ExecuteTime": {
     "end_time": "2024-03-28T15:00:39.040402Z",
     "start_time": "2024-03-28T15:00:39.032805Z"
    }
   },
   "id": "a87bc66d6fa1a701",
   "execution_count": 10
  },
  {
   "cell_type": "code",
   "outputs": [],
   "source": [],
   "metadata": {
    "collapsed": false
   },
   "id": "d2c6359d2563079b"
  }
 ],
 "metadata": {
  "kernelspec": {
   "display_name": "Python 3",
   "language": "python",
   "name": "python3"
  },
  "language_info": {
   "codemirror_mode": {
    "name": "ipython",
    "version": 2
   },
   "file_extension": ".py",
   "mimetype": "text/x-python",
   "name": "python",
   "nbconvert_exporter": "python",
   "pygments_lexer": "ipython2",
   "version": "2.7.6"
  }
 },
 "nbformat": 4,
 "nbformat_minor": 5
}
