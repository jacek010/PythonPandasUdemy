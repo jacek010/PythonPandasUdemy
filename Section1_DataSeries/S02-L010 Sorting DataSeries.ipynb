{
 "cells": [
  {
   "cell_type": "code",
   "execution_count": 1,
   "id": "initial_id",
   "metadata": {
    "collapsed": true,
    "ExecuteTime": {
     "end_time": "2024-03-26T15:04:08.057159Z",
     "start_time": "2024-03-26T15:04:07.632793Z"
    }
   },
   "outputs": [],
   "source": [
    "import pandas as pd\n",
    "import numpy as np\n",
    "import matplotlib.pyplot as plt\n",
    "import math"
   ]
  },
  {
   "cell_type": "code",
   "outputs": [
    {
     "data": {
      "text/plain": "2     113750.0\n14    100000.0\n17    130000.0\n18     82500.0\n22    100764.0\nName: Salary, dtype: float64"
     },
     "execution_count": 2,
     "metadata": {},
     "output_type": "execute_result"
    }
   ],
   "source": [
    "salary = pd.read_csv('../course-files/StackOverflowDeveloperSurvey.csv', usecols=['Salary']).dropna().squeeze()\n",
    "salary.head()"
   ],
   "metadata": {
    "collapsed": false,
    "ExecuteTime": {
     "end_time": "2024-03-26T15:04:33.897343Z",
     "start_time": "2024-03-26T15:04:33.577443Z"
    }
   },
   "id": "bb236cd4781abcc2",
   "execution_count": 2
  },
  {
   "cell_type": "code",
   "outputs": [
    {
     "data": {
      "text/plain": "31600    197000.0\n27943    195000.0\n6743     195000.0\n18237    195000.0\n41398    195000.0\nName: Salary, dtype: float64"
     },
     "execution_count": 3,
     "metadata": {},
     "output_type": "execute_result"
    }
   ],
   "source": [
    "salary.sort_values(ascending=False).head()"
   ],
   "metadata": {
    "collapsed": false,
    "ExecuteTime": {
     "end_time": "2024-03-26T15:05:13.735527Z",
     "start_time": "2024-03-26T15:05:13.729431Z"
    }
   },
   "id": "79143770ca6689bf",
   "execution_count": 3
  },
  {
   "cell_type": "code",
   "outputs": [
    {
     "data": {
      "text/plain": "51144    0.0\n23953    0.0\n23907    0.0\n44841    0.0\n2951     0.0\nName: Salary, dtype: float64"
     },
     "execution_count": 4,
     "metadata": {},
     "output_type": "execute_result"
    }
   ],
   "source": [
    "salary.sort_values(ascending=True).head()"
   ],
   "metadata": {
    "collapsed": false,
    "ExecuteTime": {
     "end_time": "2024-03-26T15:05:25.486103Z",
     "start_time": "2024-03-26T15:05:25.479397Z"
    }
   },
   "id": "73e7752d9f13086e",
   "execution_count": 4
  },
  {
   "cell_type": "code",
   "outputs": [
    {
     "data": {
      "text/plain": "51390     40000.000000\n51387     58000.000000\n51382     32258.064516\n51378    107526.881720\n51371     74193.548387\nName: Salary, dtype: float64"
     },
     "execution_count": 10,
     "metadata": {},
     "output_type": "execute_result"
    }
   ],
   "source": [
    "(salary.sort_index(ascending=False).head())"
   ],
   "metadata": {
    "collapsed": false,
    "ExecuteTime": {
     "end_time": "2024-03-26T15:07:43.295415Z",
     "start_time": "2024-03-26T15:07:43.290033Z"
    }
   },
   "id": "ccedcb4aa0d3e624",
   "execution_count": 10
  },
  {
   "cell_type": "code",
   "outputs": [
    {
     "data": {
      "text/plain": "31600    197000.0\n27943    195000.0\n6743     195000.0\n18237    195000.0\n41398    195000.0\n           ...   \n22488    170000.0\n41861    170000.0\n21133    170000.0\n6659     170000.0\n13235    170000.0\nName: Salary, Length: 100, dtype: float64"
     },
     "execution_count": 11,
     "metadata": {},
     "output_type": "execute_result"
    }
   ],
   "source": [
    "max_salaries = salary.sort_values(ascending=False).head(100)\n",
    "max_salaries"
   ],
   "metadata": {
    "collapsed": false,
    "ExecuteTime": {
     "end_time": "2024-03-26T15:08:32.089546Z",
     "start_time": "2024-03-26T15:08:32.084194Z"
    }
   },
   "id": "d0fc0f434be6e8d9",
   "execution_count": 11
  },
  {
   "cell_type": "code",
   "outputs": [
    {
     "data": {
      "text/plain": "51144      0.000000\n23953      0.000000\n23907      0.000000\n44841      0.000000\n2951       0.000000\n            ...    \n15179    176.185582\n33212    178.784267\n50569    198.208780\n48674    198.649186\n1077     200.000000\nName: Salary, Length: 100, dtype: float64"
     },
     "execution_count": 12,
     "metadata": {},
     "output_type": "execute_result"
    }
   ],
   "source": [
    "min_salaries = salary.sort_values(ascending=True).head(100)\n",
    "min_salaries"
   ],
   "metadata": {
    "collapsed": false,
    "ExecuteTime": {
     "end_time": "2024-03-26T15:08:59.344181Z",
     "start_time": "2024-03-26T15:08:59.339331Z"
    }
   },
   "id": "c2bb0e841c12c4a9",
   "execution_count": 12
  },
  {
   "cell_type": "code",
   "outputs": [
    {
     "data": {
      "text/plain": "180198.1045586777"
     },
     "execution_count": 13,
     "metadata": {},
     "output_type": "execute_result"
    }
   ],
   "source": [
    "max_salaries.mean()"
   ],
   "metadata": {
    "collapsed": false,
    "ExecuteTime": {
     "end_time": "2024-03-26T15:09:43.496216Z",
     "start_time": "2024-03-26T15:09:43.493068Z"
    }
   },
   "id": "9b6b2e4742d1a108",
   "execution_count": 13
  },
  {
   "cell_type": "code",
   "outputs": [
    {
     "data": {
      "text/plain": "67.08388907133794"
     },
     "execution_count": 14,
     "metadata": {},
     "output_type": "execute_result"
    }
   ],
   "source": [
    "min_salaries.mean()"
   ],
   "metadata": {
    "collapsed": false,
    "ExecuteTime": {
     "end_time": "2024-03-26T15:09:49.467737Z",
     "start_time": "2024-03-26T15:09:49.464297Z"
    }
   },
   "id": "d18c4da578df7308",
   "execution_count": 14
  },
  {
   "cell_type": "code",
   "outputs": [],
   "source": [],
   "metadata": {
    "collapsed": false
   },
   "id": "48bd7ce986ef3cc5"
  }
 ],
 "metadata": {
  "kernelspec": {
   "display_name": "Python 3",
   "language": "python",
   "name": "python3"
  },
  "language_info": {
   "codemirror_mode": {
    "name": "ipython",
    "version": 2
   },
   "file_extension": ".py",
   "mimetype": "text/x-python",
   "name": "python",
   "nbconvert_exporter": "python",
   "pygments_lexer": "ipython2",
   "version": "2.7.6"
  }
 },
 "nbformat": 4,
 "nbformat_minor": 5
}
