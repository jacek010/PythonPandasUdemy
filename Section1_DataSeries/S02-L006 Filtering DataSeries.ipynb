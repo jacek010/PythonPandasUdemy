{
 "cells": [
  {
   "cell_type": "code",
   "execution_count": 34,
   "id": "initial_id",
   "metadata": {
    "collapsed": true,
    "ExecuteTime": {
     "end_time": "2024-03-21T17:42:07.943146Z",
     "start_time": "2024-03-21T17:42:07.940538Z"
    }
   },
   "outputs": [],
   "source": [
    "import pandas as pd\n",
    "import numpy as np\n",
    "import matplotlib.pyplot as plt\n",
    "import math"
   ]
  },
  {
   "cell_type": "code",
   "outputs": [
    {
     "data": {
      "text/plain": "6                14\n7-14            334\n15-17           312\n18-24          5823\n25-39          9491\n40-59          7486\n60 i więcej    4343\ndtype: int64"
     },
     "execution_count": 35,
     "metadata": {},
     "output_type": "execute_result"
    }
   ],
   "source": [
    "accidents = [14 ,334,312,5823,9491,7486,4343]\n",
    "ages=['6', '7-14', '15-17', '18-24', '25-39', '40-59', '60 i więcej']\n",
    "accident_per_age = pd.Series(data=accidents, index=ages)\n",
    "accident_per_age"
   ],
   "metadata": {
    "collapsed": false,
    "ExecuteTime": {
     "end_time": "2024-03-21T17:42:07.949013Z",
     "start_time": "2024-03-21T17:42:07.945149Z"
    }
   },
   "id": "ff90a4775db7289e",
   "execution_count": 35
  },
  {
   "cell_type": "code",
   "outputs": [
    {
     "data": {
      "text/plain": "18-24          5823.0\n25-39          9491.0\n40-59          7486.0\n60 i więcej    4343.0\ndtype: float64"
     },
     "execution_count": 36,
     "metadata": {},
     "output_type": "execute_result"
    }
   ],
   "source": [
    "accident1000 = accident_per_age.where(accident_per_age > 1000)\n",
    "accident1000.dropna()"
   ],
   "metadata": {
    "collapsed": false,
    "ExecuteTime": {
     "end_time": "2024-03-21T17:42:07.954101Z",
     "start_time": "2024-03-21T17:42:07.950395Z"
    }
   },
   "id": "8b55373566b764dd",
   "execution_count": 36
  },
  {
   "cell_type": "code",
   "outputs": [
    {
     "data": {
      "text/plain": "18-24    5823\n25-39    9491\n40-59    7486\ndtype: int64"
     },
     "execution_count": 37,
     "metadata": {},
     "output_type": "execute_result"
    }
   ],
   "source": [
    "accident_per_age.filter(['18-24', '25-39', '40-59'])"
   ],
   "metadata": {
    "collapsed": false,
    "ExecuteTime": {
     "end_time": "2024-03-21T17:42:07.959418Z",
     "start_time": "2024-03-21T17:42:07.955444Z"
    }
   },
   "id": "3368629a3a1110bb",
   "execution_count": 37
  },
  {
   "cell_type": "code",
   "outputs": [
    {
     "data": {
      "text/plain": "6         14.0\n7-14     334.0\n15-17    312.0\ndtype: float64"
     },
     "execution_count": 38,
     "metadata": {},
     "output_type": "execute_result"
    }
   ],
   "source": [
    "accident_under = accident_per_age.where(accident_per_age<1000)\n",
    "accident_under.dropna()"
   ],
   "metadata": {
    "collapsed": false,
    "ExecuteTime": {
     "end_time": "2024-03-21T17:42:07.963359Z",
     "start_time": "2024-03-21T17:42:07.960164Z"
    }
   },
   "id": "3e52253392493b0c",
   "execution_count": 38
  },
  {
   "cell_type": "code",
   "outputs": [],
   "source": [],
   "metadata": {
    "collapsed": false,
    "ExecuteTime": {
     "end_time": "2024-03-21T17:42:07.966188Z",
     "start_time": "2024-03-21T17:42:07.964827Z"
    }
   },
   "id": "a63a68472726be83",
   "execution_count": 38
  }
 ],
 "metadata": {
  "kernelspec": {
   "display_name": "Python 3",
   "language": "python",
   "name": "python3"
  },
  "language_info": {
   "codemirror_mode": {
    "name": "ipython",
    "version": 2
   },
   "file_extension": ".py",
   "mimetype": "text/x-python",
   "name": "python",
   "nbconvert_exporter": "python",
   "pygments_lexer": "ipython2",
   "version": "2.7.6"
  }
 },
 "nbformat": 4,
 "nbformat_minor": 5
}
