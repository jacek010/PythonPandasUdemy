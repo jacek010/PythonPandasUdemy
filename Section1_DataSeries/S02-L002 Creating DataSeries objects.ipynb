{
 "cells": [
  {
   "cell_type": "code",
   "execution_count": 10,
   "id": "initial_id",
   "metadata": {
    "collapsed": true,
    "ExecuteTime": {
     "end_time": "2024-03-21T11:02:15.392322Z",
     "start_time": "2024-03-21T11:02:15.388456Z"
    }
   },
   "outputs": [],
   "source": [
    "import pandas as pd\n",
    "import numpy as np\n",
    "import matplotlib.pyplot as plt\n",
    "import math as math"
   ]
  },
  {
   "cell_type": "code",
   "outputs": [],
   "source": [
    "cities=['London','New York','Berlin','Singapore']"
   ],
   "metadata": {
    "collapsed": false,
    "ExecuteTime": {
     "end_time": "2024-03-21T11:02:15.395944Z",
     "start_time": "2024-03-21T11:02:15.393945Z"
    }
   },
   "id": "81d3e21b2338dafd",
   "execution_count": 11
  },
  {
   "cell_type": "code",
   "outputs": [
    {
     "data": {
      "text/plain": "['London', 'New York', 'Berlin', 'Singapore']"
     },
     "execution_count": 12,
     "metadata": {},
     "output_type": "execute_result"
    }
   ],
   "source": [
    "cities"
   ],
   "metadata": {
    "collapsed": false,
    "ExecuteTime": {
     "end_time": "2024-03-21T11:02:15.400057Z",
     "start_time": "2024-03-21T11:02:15.397305Z"
    }
   },
   "id": "2fbe7e830a613401",
   "execution_count": 12
  },
  {
   "cell_type": "code",
   "outputs": [
    {
     "data": {
      "text/plain": "0       London\n1     New York\n2       Berlin\n3    Singapore\ndtype: object"
     },
     "execution_count": 13,
     "metadata": {},
     "output_type": "execute_result"
    }
   ],
   "source": [
    "pd.Series(cities)"
   ],
   "metadata": {
    "collapsed": false,
    "ExecuteTime": {
     "end_time": "2024-03-21T11:02:15.404894Z",
     "start_time": "2024-03-21T11:02:15.401211Z"
    }
   },
   "id": "63b54f4a340f5873",
   "execution_count": 13
  },
  {
   "cell_type": "code",
   "outputs": [
    {
     "data": {
      "text/plain": "0     2\n1     3\n2     5\n3     7\n4    11\n5    13\n6    17\n7    19\ndtype: int64"
     },
     "execution_count": 14,
     "metadata": {},
     "output_type": "execute_result"
    }
   ],
   "source": [
    "primeNumbers=(2,3,5,7,11,13,17,19)\n",
    "pd.Series(primeNumbers)"
   ],
   "metadata": {
    "collapsed": false,
    "ExecuteTime": {
     "end_time": "2024-03-21T11:02:15.408556Z",
     "start_time": "2024-03-21T11:02:15.405535Z"
    }
   },
   "id": "101f6990ceb30307",
   "execution_count": 14
  },
  {
   "cell_type": "code",
   "outputs": [],
   "source": [
    "logicalValues = [True,True,False]"
   ],
   "metadata": {
    "collapsed": false,
    "ExecuteTime": {
     "end_time": "2024-03-21T11:02:15.411670Z",
     "start_time": "2024-03-21T11:02:15.410014Z"
    }
   },
   "id": "87d8226cc7f78fe8",
   "execution_count": 15
  },
  {
   "cell_type": "code",
   "outputs": [
    {
     "data": {
      "text/plain": "0     True\n1     True\n2    False\ndtype: bool"
     },
     "execution_count": 16,
     "metadata": {},
     "output_type": "execute_result"
    }
   ],
   "source": [
    "pd.Series(logicalValues)"
   ],
   "metadata": {
    "collapsed": false,
    "ExecuteTime": {
     "end_time": "2024-03-21T11:02:15.415151Z",
     "start_time": "2024-03-21T11:02:15.412505Z"
    }
   },
   "id": "b007f6f13de4bfef",
   "execution_count": 16
  },
  {
   "cell_type": "code",
   "outputs": [
    {
     "data": {
      "text/plain": "Warsaw          Poland\nBerlin         Germany\nSingapore    Singapore\nKraków          Poland\ndtype: object"
     },
     "execution_count": 17,
     "metadata": {},
     "output_type": "execute_result"
    }
   ],
   "source": [
    "cities={'Warsaw':'Poland',\n",
    "        'Berlin':'Germany',\n",
    "        'Singapore':'Singapore',\n",
    "        'Kraków':'Poland'}\n",
    "pd.Series(cities)"
   ],
   "metadata": {
    "collapsed": false,
    "ExecuteTime": {
     "end_time": "2024-03-21T11:04:35.038890Z",
     "start_time": "2024-03-21T11:04:35.034057Z"
    }
   },
   "id": "e5d7a2c876763c05",
   "execution_count": 17
  },
  {
   "cell_type": "code",
   "outputs": [],
   "source": [],
   "metadata": {
    "collapsed": false
   },
   "id": "1d03f58ba1a99552"
  }
 ],
 "metadata": {
  "kernelspec": {
   "display_name": "Python 3",
   "language": "python",
   "name": "python3"
  },
  "language_info": {
   "codemirror_mode": {
    "name": "ipython",
    "version": 2
   },
   "file_extension": ".py",
   "mimetype": "text/x-python",
   "name": "python",
   "nbconvert_exporter": "python",
   "pygments_lexer": "ipython2",
   "version": "2.7.6"
  }
 },
 "nbformat": 4,
 "nbformat_minor": 5
}
