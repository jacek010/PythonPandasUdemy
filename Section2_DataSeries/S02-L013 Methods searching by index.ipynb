{
 "cells": [
  {
   "cell_type": "code",
   "execution_count": 1,
   "id": "initial_id",
   "metadata": {
    "collapsed": true,
    "ExecuteTime": {
     "end_time": "2024-03-26T17:24:34.010665Z",
     "start_time": "2024-03-26T17:24:33.598198Z"
    }
   },
   "outputs": [],
   "source": [
    "import pandas as pd\n",
    "import numpy as np\n",
    "import matplotlib.pyplot as plt\n",
    "import math"
   ]
  },
  {
   "cell_type": "code",
   "outputs": [],
   "source": [
    "countries = pd.read_csv('../course-files/countries.csv', usecols=['Symbol', 'Name'], index_col='Symbol').squeeze()"
   ],
   "metadata": {
    "collapsed": false,
    "ExecuteTime": {
     "end_time": "2024-03-26T17:25:58.412120Z",
     "start_time": "2024-03-26T17:25:58.399904Z"
    }
   },
   "id": "58a334be21b67ec1",
   "execution_count": 2
  },
  {
   "cell_type": "code",
   "outputs": [
    {
     "data": {
      "text/plain": "Symbol\nAF            Afghanistan\nAL                Albania\nDZ                Algeria\nAD                Andorra\nAO                 Angola\nAI               Anguilla\nAQ             Antarctica\nAG    Antigua and Barbuda\nSA           Saudi Arabia\nAR              Argentina\nAM                Armenia\nAW                  Aruba\nAU              Australia\nAT                Austria\nAZ             Azerbaijan\nBS                Bahamas\nBH                Bahrain\nBD             Bangladesh\nBB               Barbados\nBE                Belgium\nName: Name, dtype: object"
     },
     "execution_count": 3,
     "metadata": {},
     "output_type": "execute_result"
    }
   ],
   "source": [
    "countries.head(20)"
   ],
   "metadata": {
    "collapsed": false,
    "ExecuteTime": {
     "end_time": "2024-03-26T17:26:11.257666Z",
     "start_time": "2024-03-26T17:26:11.249423Z"
    }
   },
   "id": "5b0cd20d33eb6c1",
   "execution_count": 3
  },
  {
   "cell_type": "code",
   "outputs": [
    {
     "data": {
      "text/plain": "'France'"
     },
     "execution_count": 4,
     "metadata": {},
     "output_type": "execute_result"
    }
   ],
   "source": [
    "countries.get('FR')"
   ],
   "metadata": {
    "collapsed": false,
    "ExecuteTime": {
     "end_time": "2024-03-26T17:26:48.241486Z",
     "start_time": "2024-03-26T17:26:48.237295Z"
    }
   },
   "id": "f0df9a2aebb556d6",
   "execution_count": 4
  },
  {
   "cell_type": "code",
   "outputs": [
    {
     "data": {
      "text/plain": "'Austria'"
     },
     "execution_count": 5,
     "metadata": {},
     "output_type": "execute_result"
    }
   ],
   "source": [
    "countries.iat[13]"
   ],
   "metadata": {
    "collapsed": false,
    "ExecuteTime": {
     "end_time": "2024-03-26T17:27:10.912319Z",
     "start_time": "2024-03-26T17:27:10.908327Z"
    }
   },
   "id": "9389e8473f23a2f5",
   "execution_count": 5
  },
  {
   "cell_type": "code",
   "outputs": [
    {
     "data": {
      "text/plain": "Symbol\nFI    Finland\nSE     Sweden\nNO     Norway\nName: Name, dtype: object"
     },
     "execution_count": 7,
     "metadata": {},
     "output_type": "execute_result"
    }
   ],
   "source": [
    "nordic = ['FI','SE','NO']\n",
    "countries[nordic]"
   ],
   "metadata": {
    "collapsed": false,
    "ExecuteTime": {
     "end_time": "2024-03-26T17:28:35.451465Z",
     "start_time": "2024-03-26T17:28:35.446214Z"
    }
   },
   "id": "16d738042af98d22",
   "execution_count": 7
  },
  {
   "cell_type": "code",
   "outputs": [
    {
     "data": {
      "text/plain": "Symbol\nFI    Finland\nSE     Sweden\nNO     Norway\nName: Name, dtype: object"
     },
     "execution_count": 8,
     "metadata": {},
     "output_type": "execute_result"
    }
   ],
   "source": [
    "countries.loc[nordic]"
   ],
   "metadata": {
    "collapsed": false,
    "ExecuteTime": {
     "end_time": "2024-03-26T17:29:09.241281Z",
     "start_time": "2024-03-26T17:29:09.238336Z"
    }
   },
   "id": "930f5313dc413550",
   "execution_count": 8
  },
  {
   "cell_type": "code",
   "outputs": [],
   "source": [],
   "metadata": {
    "collapsed": false
   },
   "id": "8d28d68dd518811"
  }
 ],
 "metadata": {
  "kernelspec": {
   "display_name": "Python 3",
   "language": "python",
   "name": "python3"
  },
  "language_info": {
   "codemirror_mode": {
    "name": "ipython",
    "version": 2
   },
   "file_extension": ".py",
   "mimetype": "text/x-python",
   "name": "python",
   "nbconvert_exporter": "python",
   "pygments_lexer": "ipython2",
   "version": "2.7.6"
  }
 },
 "nbformat": 4,
 "nbformat_minor": 5
}
