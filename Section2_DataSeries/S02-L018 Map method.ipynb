{
 "cells": [
  {
   "cell_type": "code",
   "execution_count": 1,
   "id": "initial_id",
   "metadata": {
    "collapsed": true,
    "ExecuteTime": {
     "end_time": "2024-03-28T11:31:57.694132Z",
     "start_time": "2024-03-28T11:31:57.259501Z"
    }
   },
   "outputs": [],
   "source": [
    "import pandas as pd\n",
    "import numpy as np\n",
    "import matplotlib.pyplot as plt\n",
    "import math\n",
    "import random as rd"
   ]
  },
  {
   "cell_type": "code",
   "outputs": [
    {
     "data": {
      "text/plain": "PYT001    Airbus 320\nPYT002    Boeing 737\nPYT003    Airbus 321\ndtype: object"
     },
     "execution_count": 6,
     "metadata": {},
     "output_type": "execute_result"
    }
   ],
   "source": [
    "planes = {\n",
    "    'PYT001' : 'Airbus 320',\n",
    "    'PYT002' : 'Boeing 737',\n",
    "    'PYT003' : 'Airbus 321'\n",
    "}\n",
    "aircrafts = pd.Series(planes)\n",
    "aircrafts"
   ],
   "metadata": {
    "collapsed": false,
    "ExecuteTime": {
     "end_time": "2024-03-28T11:39:20.696330Z",
     "start_time": "2024-03-28T11:39:20.691711Z"
    }
   },
   "id": "774a578485a9e18a",
   "execution_count": 6
  },
  {
   "cell_type": "code",
   "outputs": [
    {
     "data": {
      "text/plain": "['PYT003', 'PYT001', 'PYT001', 'PYT003', 'PYT003']"
     },
     "execution_count": 3,
     "metadata": {},
     "output_type": "execute_result"
    }
   ],
   "source": [
    "flightsList=[]\n",
    "for i in range(100):\n",
    "    flightsList.append(rd.choice(aircrafts.index))\n",
    "    \n",
    "flightsList[:5]"
   ],
   "metadata": {
    "collapsed": false,
    "ExecuteTime": {
     "end_time": "2024-03-28T11:38:16.430949Z",
     "start_time": "2024-03-28T11:38:16.425276Z"
    }
   },
   "id": "e27cddf292084dfc",
   "execution_count": 3
  },
  {
   "cell_type": "code",
   "outputs": [
    {
     "data": {
      "text/plain": "0    PYT003\n1    PYT001\n2    PYT001\n3    PYT003\n4    PYT003\ndtype: object"
     },
     "execution_count": 5,
     "metadata": {},
     "output_type": "execute_result"
    }
   ],
   "source": [
    "flights = pd.Series(flightsList)\n",
    "flights[:5]"
   ],
   "metadata": {
    "collapsed": false,
    "ExecuteTime": {
     "end_time": "2024-03-28T11:39:06.493614Z",
     "start_time": "2024-03-28T11:39:06.488373Z"
    }
   },
   "id": "e49e9a31f43229ac",
   "execution_count": 5
  },
  {
   "cell_type": "code",
   "outputs": [
    {
     "data": {
      "text/plain": "0    Airbus 321\n1    Airbus 320\n2    Airbus 320\n3    Airbus 321\n4    Airbus 321\ndtype: object"
     },
     "execution_count": 7,
     "metadata": {},
     "output_type": "execute_result"
    }
   ],
   "source": [
    "flights_aircrafts = flights.map(aircrafts)\n",
    "flights_aircrafts[:5]"
   ],
   "metadata": {
    "collapsed": false,
    "ExecuteTime": {
     "end_time": "2024-03-28T11:40:35.420478Z",
     "start_time": "2024-03-28T11:40:35.416938Z"
    }
   },
   "id": "38cfeafa945dd355",
   "execution_count": 7
  },
  {
   "cell_type": "code",
   "outputs": [],
   "source": [],
   "metadata": {
    "collapsed": false
   },
   "id": "30f094dc3426d41a"
  }
 ],
 "metadata": {
  "kernelspec": {
   "display_name": "Python 3",
   "language": "python",
   "name": "python3"
  },
  "language_info": {
   "codemirror_mode": {
    "name": "ipython",
    "version": 2
   },
   "file_extension": ".py",
   "mimetype": "text/x-python",
   "name": "python",
   "nbconvert_exporter": "python",
   "pygments_lexer": "ipython2",
   "version": "2.7.6"
  }
 },
 "nbformat": 4,
 "nbformat_minor": 5
}
