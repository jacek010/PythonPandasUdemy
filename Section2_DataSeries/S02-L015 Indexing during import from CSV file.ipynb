{
 "cells": [
  {
   "cell_type": "code",
   "execution_count": 3,
   "id": "initial_id",
   "metadata": {
    "collapsed": true,
    "ExecuteTime": {
     "end_time": "2024-03-26T20:13:04.433593Z",
     "start_time": "2024-03-26T20:13:04.426972Z"
    }
   },
   "outputs": [
    {
     "data": {
      "text/plain": "Rank\n1                Walmart\n2     Berkshire Hathaway\n3                  Apple\n4            Exxon Mobil\n5               McKesson\n6     UnitedHealth Group\n7             CVS Health\n8         General Motors\n9                   AT&T\n10            Ford Motor\nName: Title, dtype: object"
     },
     "execution_count": 3,
     "metadata": {},
     "output_type": "execute_result"
    }
   ],
   "source": [
    "import pandas as pd\n",
    "import numpy as np\n",
    "import matplotlib.pyplot as plt\n",
    "import math\n",
    "\n",
    "fortune500 = pd.read_csv('../course-files/Fortune_500_2017.csv', usecols=['Rank','Title'], index_col='Rank').squeeze()\n",
    "\n",
    "fortune500.head(10)"
   ]
  },
  {
   "cell_type": "code",
   "outputs": [
    {
     "data": {
      "text/plain": "Rank\n481           Booz Allen Hamilton Holding\n482                              Chemours\n483    Western & Southern Financial Group\n484                              Celanese\n485                   Windstream Holdings\n486                              Seaboard\n487                             Essendant\n488                                Apache\n489                                Airgas\n490                        Kelly Services\n491                         Liberty Media\n492                      Rockwell Collins\n493             Robert Half International\n494                             CH2M Hill\n495                              Big Lots\n496                         Michaels Cos.\n497                         Toll Brothers\n498                                 Yahoo\n499                         Vistra Energy\n500                        ABM Industries\nName: Title, dtype: object"
     },
     "execution_count": 4,
     "metadata": {},
     "output_type": "execute_result"
    }
   ],
   "source": [
    "fortune500.tail(20)"
   ],
   "metadata": {
    "collapsed": false,
    "ExecuteTime": {
     "end_time": "2024-03-26T20:13:24.308530Z",
     "start_time": "2024-03-26T20:13:24.304813Z"
    }
   },
   "id": "79b71d4b11475475",
   "execution_count": 4
  },
  {
   "cell_type": "code",
   "outputs": [
    {
     "data": {
      "text/plain": "Title\nWalmart               2300000\nBerkshire Hathaway     367700\nApple                  116000\nExxon Mobil             72700\nMcKesson                68000\nUnitedHealth Group     230000\nCVS Health             204000\nGeneral Motors         225000\nAT&T                   268540\nFord Motor             201000\nName: Employees, dtype: int64"
     },
     "execution_count": 5,
     "metadata": {},
     "output_type": "execute_result"
    }
   ],
   "source": [
    "fortune500 = pd.read_csv('../course-files/Fortune_500_2017.csv', usecols=['Employees','Title'], index_col='Title').squeeze()\n",
    "\n",
    "fortune500.head(10)"
   ],
   "metadata": {
    "collapsed": false,
    "ExecuteTime": {
     "end_time": "2024-03-26T20:14:13.659731Z",
     "start_time": "2024-03-26T20:14:13.653332Z"
    }
   },
   "id": "d5ff65cd54ef0c92",
   "execution_count": 5
  },
  {
   "cell_type": "code",
   "outputs": [
    {
     "data": {
      "text/plain": "Title\nApple       116000\nAlphabet     72053\nIBM         414400\nFacebook     17048\nName: Employees, dtype: int64"
     },
     "execution_count": 6,
     "metadata": {},
     "output_type": "execute_result"
    }
   ],
   "source": [
    "names = ['IBM','Alphabet','Facebook','Apple']\n",
    "fortune500.loc[fortune500.index.intersection(names)]"
   ],
   "metadata": {
    "collapsed": false,
    "ExecuteTime": {
     "end_time": "2024-03-26T20:15:34.887689Z",
     "start_time": "2024-03-26T20:15:34.882140Z"
    }
   },
   "id": "6716830daa3c6639",
   "execution_count": 6
  },
  {
   "cell_type": "code",
   "outputs": [
    {
     "data": {
      "text/plain": "Title\nIBM                          414400\nState Farm Insurance Cos.     68234\nPhillips 66                   14800\nJohnson & Johnson            126400\nProcter & Gamble             105000\nValero Energy                  9996\nTarget                       323000\nFreddie Mac                    5982\nLowe’s                       240000\nDell Technologies            138000\nMetLife                       58000\nAetna                         49500\nPepsiCo                      264000\nArcher Daniels Midland        31800\nUPS                          335520\nIntel                        106000\nName: Employees, dtype: int64"
     },
     "execution_count": 10,
     "metadata": {},
     "output_type": "execute_result"
    }
   ],
   "source": [
    "fortune500.loc['IBM':'Intel']"
   ],
   "metadata": {
    "collapsed": false,
    "ExecuteTime": {
     "end_time": "2024-03-26T20:18:15.211605Z",
     "start_time": "2024-03-26T20:18:15.207532Z"
    }
   },
   "id": "e60aff20fe6a1c33",
   "execution_count": 10
  },
  {
   "cell_type": "code",
   "outputs": [],
   "source": [],
   "metadata": {
    "collapsed": false
   },
   "id": "eb793cf1602cc5ff"
  }
 ],
 "metadata": {
  "kernelspec": {
   "display_name": "Python 3",
   "language": "python",
   "name": "python3"
  },
  "language_info": {
   "codemirror_mode": {
    "name": "ipython",
    "version": 2
   },
   "file_extension": ".py",
   "mimetype": "text/x-python",
   "name": "python",
   "nbconvert_exporter": "python",
   "pygments_lexer": "ipython2",
   "version": "2.7.6"
  }
 },
 "nbformat": 4,
 "nbformat_minor": 5
}
