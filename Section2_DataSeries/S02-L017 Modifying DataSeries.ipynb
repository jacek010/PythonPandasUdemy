{
 "cells": [
  {
   "cell_type": "code",
   "execution_count": 3,
   "id": "initial_id",
   "metadata": {
    "collapsed": true,
    "ExecuteTime": {
     "end_time": "2024-03-28T11:20:04.272748Z",
     "start_time": "2024-03-28T11:20:03.913974Z"
    }
   },
   "outputs": [
    {
     "data": {
      "text/plain": "2     113750.0\n14    100000.0\n17    130000.0\n18     82500.0\n22    100764.0\nName: Salary, dtype: float64"
     },
     "execution_count": 3,
     "metadata": {},
     "output_type": "execute_result"
    }
   ],
   "source": [
    "import pandas as pd\n",
    "import numpy as np\n",
    "import matplotlib.pyplot as plt\n",
    "import math\n",
    "\n",
    "surveys = pd.read_csv('../course-files/StackOverflowDeveloperSurvey.csv',usecols=['Salary'], low_memory=False).dropna().squeeze()\n",
    "\n",
    "surveys.head()"
   ]
  },
  {
   "cell_type": "markdown",
   "source": [
    "2. Interesuje Cię ile osób podało wysokość swojej wypłaty? Wyświetl informację od ilości elementów w serii surveys"
   ],
   "metadata": {
    "collapsed": false
   },
   "id": "373bc2c45d9ee8b0"
  },
  {
   "cell_type": "code",
   "outputs": [
    {
     "data": {
      "text/plain": "12891"
     },
     "execution_count": 4,
     "metadata": {},
     "output_type": "execute_result"
    }
   ],
   "source": [
    "surveys.count()"
   ],
   "metadata": {
    "collapsed": false,
    "ExecuteTime": {
     "end_time": "2024-03-28T11:20:15.501105Z",
     "start_time": "2024-03-28T11:20:15.497919Z"
    }
   },
   "id": "f6e7bf8143c835e4",
   "execution_count": 4
  },
  {
   "cell_type": "markdown",
   "source": [
    "3. Symulujemy podwyżkę pensji o 3%. Utwórz nową serię surveysIncrease, której wartością będą kwoty z serii surveys pomnożone przez 0.03. Wyświetl nagłówek nowej serii."
   ],
   "metadata": {
    "collapsed": false
   },
   "id": "8e1001eff1a8cdc3"
  },
  {
   "cell_type": "code",
   "outputs": [
    {
     "data": {
      "text/plain": "2     3412.50\n14    3000.00\n17    3900.00\n18    2475.00\n22    3022.92\nName: Salary, dtype: float64"
     },
     "execution_count": 5,
     "metadata": {},
     "output_type": "execute_result"
    }
   ],
   "source": [
    "surveysIncrease = surveys.apply(lambda row: int(row)*0.03)\n",
    "surveysIncrease.head()"
   ],
   "metadata": {
    "collapsed": false,
    "ExecuteTime": {
     "end_time": "2024-03-28T11:22:02.620917Z",
     "start_time": "2024-03-28T11:22:02.613997Z"
    }
   },
   "id": "aa5372541ab90f75",
   "execution_count": 5
  },
  {
   "cell_type": "markdown",
   "source": [
    "4. Utwórz nową serię surveysAfterIncrease, której wartością będzie suma surveys i surveysIncrease. Wyświetl nagłówek."
   ],
   "metadata": {
    "collapsed": false
   },
   "id": "39a0e1e81b13bbd3"
  },
  {
   "cell_type": "code",
   "outputs": [
    {
     "data": {
      "text/plain": "2     117162.50\n14    103000.00\n17    133900.00\n18     84975.00\n22    103786.92\nName: Salary, dtype: float64"
     },
     "execution_count": 6,
     "metadata": {},
     "output_type": "execute_result"
    }
   ],
   "source": [
    "surveysAfterIncrease = surveys+surveysIncrease\n",
    "surveysAfterIncrease.head()"
   ],
   "metadata": {
    "collapsed": false,
    "ExecuteTime": {
     "end_time": "2024-03-28T11:22:57.429841Z",
     "start_time": "2024-03-28T11:22:57.425567Z"
    }
   },
   "id": "da669eddac7dc0b9",
   "execution_count": 6
  },
  {
   "cell_type": "markdown",
   "source": [
    "5. Zmieniamy trochę temat. Do zmiennej surveysTime wczytaj kolumnę HoursOutside z pliku StackOverflowDeveloperSurvey2018.csv. Ponieważ plik jest duży, dodaj parametr low_memory=False. Również skorzystaj z metody dropna(), aby wyeliminować puste wartości. Wyświetl nagłówek."
   ],
   "metadata": {
    "collapsed": false
   },
   "id": "2564f316560acb1"
  },
  {
   "cell_type": "code",
   "outputs": [
    {
     "data": {
      "text/plain": "0    0.0\n3    5.0\n5    0.0\n6    1.0\n7    1.0\nName: HoursPerWeek, dtype: float64"
     },
     "execution_count": 8,
     "metadata": {},
     "output_type": "execute_result"
    }
   ],
   "source": [
    "surveysTimes = pd.read_csv('../course-files/StackOverflowDeveloperSurvey.csv',usecols=['HoursPerWeek'], low_memory=False).dropna().squeeze()\n",
    "\n",
    "surveysTimes.head()"
   ],
   "metadata": {
    "collapsed": false,
    "ExecuteTime": {
     "end_time": "2024-03-28T11:25:04.797932Z",
     "start_time": "2024-03-28T11:25:04.440230Z"
    }
   },
   "id": "c6877d14436915e6",
   "execution_count": 8
  },
  {
   "cell_type": "markdown",
   "source": [
    "6. Interesuje Cię ile czasu programiści spędzają na \"świeżym powietrzu\"? Uruchom na rzecz surveysTime metodę, która dla każdej unikalnej pozycji z serii wyświetli ile razy ta pozycja występowała w serii. Do której grupy należysz ;) ?"
   ],
   "metadata": {
    "collapsed": false
   },
   "id": "2d67b962741e1b23"
  },
  {
   "cell_type": "code",
   "outputs": [
    {
     "data": {
      "text/plain": "HoursPerWeek\n1.0     5901\n0.0     5129\n2.0     2933\n3.0     1233\n4.0     1096\n5.0      958\n10.0     559\n40.0     476\n6.0      427\n8.0      325\n7.0      266\n20.0     259\n15.0     134\n12.0     126\n9.0       93\n14.0      77\n11.0      58\n30.0      55\n35.0      46\n19.0      45\n16.0      41\n13.0      37\n25.0      34\n21.0      34\n24.0      33\n18.0      30\n17.0      25\n22.0      22\n39.0      18\n37.0      16\n38.0      16\n36.0      15\n26.0      14\n27.0      12\n32.0      11\n23.0      11\n28.0      10\n34.0       9\n29.0       7\n31.0       5\n33.0       4\nName: count, dtype: int64"
     },
     "execution_count": 9,
     "metadata": {},
     "output_type": "execute_result"
    }
   ],
   "source": [
    "surveysTimes.value_counts()"
   ],
   "metadata": {
    "collapsed": false,
    "ExecuteTime": {
     "end_time": "2024-03-28T11:25:50.109660Z",
     "start_time": "2024-03-28T11:25:50.104231Z"
    }
   },
   "id": "69e6775860593ea9",
   "execution_count": 9
  },
  {
   "cell_type": "markdown",
   "source": [
    "\n",
    "7. Po zaimportowaniu danych, można je normalizować. Zmień wielkość liter na małe w całej serii surveysTime. Zmiany mają rzeczywiście być zapisane w surveysTime. Wyświetl nagłówek."
   ],
   "metadata": {
    "collapsed": false
   },
   "id": "cecb9bc3f52e9601"
  },
  {
   "cell_type": "code",
   "outputs": [
    {
     "ename": "AttributeError",
     "evalue": "Can only use .str accessor with string values!",
     "output_type": "error",
     "traceback": [
      "\u001B[0;31m---------------------------------------------------------------------------\u001B[0m",
      "\u001B[0;31mAttributeError\u001B[0m                            Traceback (most recent call last)",
      "Cell \u001B[0;32mIn[11], line 1\u001B[0m\n\u001B[0;32m----> 1\u001B[0m surveysTimes \u001B[38;5;241m=\u001B[39m \u001B[43msurveysTimes\u001B[49m\u001B[38;5;241;43m.\u001B[39;49m\u001B[43mstr\u001B[49m\n\u001B[1;32m      2\u001B[0m surveysTimes\u001B[38;5;241m.\u001B[39mhead()\n",
      "File \u001B[0;32m~/Programowanie/Python/PythonPandasUdemy/.venv/lib/python3.12/site-packages/pandas/core/generic.py:6296\u001B[0m, in \u001B[0;36mNDFrame.__getattr__\u001B[0;34m(self, name)\u001B[0m\n\u001B[1;32m   6289\u001B[0m \u001B[38;5;28;01mif\u001B[39;00m (\n\u001B[1;32m   6290\u001B[0m     name \u001B[38;5;129;01mnot\u001B[39;00m \u001B[38;5;129;01min\u001B[39;00m \u001B[38;5;28mself\u001B[39m\u001B[38;5;241m.\u001B[39m_internal_names_set\n\u001B[1;32m   6291\u001B[0m     \u001B[38;5;129;01mand\u001B[39;00m name \u001B[38;5;129;01mnot\u001B[39;00m \u001B[38;5;129;01min\u001B[39;00m \u001B[38;5;28mself\u001B[39m\u001B[38;5;241m.\u001B[39m_metadata\n\u001B[1;32m   6292\u001B[0m     \u001B[38;5;129;01mand\u001B[39;00m name \u001B[38;5;129;01mnot\u001B[39;00m \u001B[38;5;129;01min\u001B[39;00m \u001B[38;5;28mself\u001B[39m\u001B[38;5;241m.\u001B[39m_accessors\n\u001B[1;32m   6293\u001B[0m     \u001B[38;5;129;01mand\u001B[39;00m \u001B[38;5;28mself\u001B[39m\u001B[38;5;241m.\u001B[39m_info_axis\u001B[38;5;241m.\u001B[39m_can_hold_identifiers_and_holds_name(name)\n\u001B[1;32m   6294\u001B[0m ):\n\u001B[1;32m   6295\u001B[0m     \u001B[38;5;28;01mreturn\u001B[39;00m \u001B[38;5;28mself\u001B[39m[name]\n\u001B[0;32m-> 6296\u001B[0m \u001B[38;5;28;01mreturn\u001B[39;00m \u001B[38;5;28;43mobject\u001B[39;49m\u001B[38;5;241;43m.\u001B[39;49m\u001B[38;5;21;43m__getattribute__\u001B[39;49m\u001B[43m(\u001B[49m\u001B[38;5;28;43mself\u001B[39;49m\u001B[43m,\u001B[49m\u001B[43m \u001B[49m\u001B[43mname\u001B[49m\u001B[43m)\u001B[49m\n",
      "File \u001B[0;32m~/Programowanie/Python/PythonPandasUdemy/.venv/lib/python3.12/site-packages/pandas/core/accessor.py:224\u001B[0m, in \u001B[0;36mCachedAccessor.__get__\u001B[0;34m(self, obj, cls)\u001B[0m\n\u001B[1;32m    221\u001B[0m \u001B[38;5;28;01mif\u001B[39;00m obj \u001B[38;5;129;01mis\u001B[39;00m \u001B[38;5;28;01mNone\u001B[39;00m:\n\u001B[1;32m    222\u001B[0m     \u001B[38;5;66;03m# we're accessing the attribute of the class, i.e., Dataset.geo\u001B[39;00m\n\u001B[1;32m    223\u001B[0m     \u001B[38;5;28;01mreturn\u001B[39;00m \u001B[38;5;28mself\u001B[39m\u001B[38;5;241m.\u001B[39m_accessor\n\u001B[0;32m--> 224\u001B[0m accessor_obj \u001B[38;5;241m=\u001B[39m \u001B[38;5;28;43mself\u001B[39;49m\u001B[38;5;241;43m.\u001B[39;49m\u001B[43m_accessor\u001B[49m\u001B[43m(\u001B[49m\u001B[43mobj\u001B[49m\u001B[43m)\u001B[49m\n\u001B[1;32m    225\u001B[0m \u001B[38;5;66;03m# Replace the property with the accessor object. Inspired by:\u001B[39;00m\n\u001B[1;32m    226\u001B[0m \u001B[38;5;66;03m# https://www.pydanny.com/cached-property.html\u001B[39;00m\n\u001B[1;32m    227\u001B[0m \u001B[38;5;66;03m# We need to use object.__setattr__ because we overwrite __setattr__ on\u001B[39;00m\n\u001B[1;32m    228\u001B[0m \u001B[38;5;66;03m# NDFrame\u001B[39;00m\n\u001B[1;32m    229\u001B[0m \u001B[38;5;28mobject\u001B[39m\u001B[38;5;241m.\u001B[39m\u001B[38;5;21m__setattr__\u001B[39m(obj, \u001B[38;5;28mself\u001B[39m\u001B[38;5;241m.\u001B[39m_name, accessor_obj)\n",
      "File \u001B[0;32m~/Programowanie/Python/PythonPandasUdemy/.venv/lib/python3.12/site-packages/pandas/core/strings/accessor.py:191\u001B[0m, in \u001B[0;36mStringMethods.__init__\u001B[0;34m(self, data)\u001B[0m\n\u001B[1;32m    188\u001B[0m \u001B[38;5;28;01mdef\u001B[39;00m \u001B[38;5;21m__init__\u001B[39m(\u001B[38;5;28mself\u001B[39m, data) \u001B[38;5;241m-\u001B[39m\u001B[38;5;241m>\u001B[39m \u001B[38;5;28;01mNone\u001B[39;00m:\n\u001B[1;32m    189\u001B[0m     \u001B[38;5;28;01mfrom\u001B[39;00m \u001B[38;5;21;01mpandas\u001B[39;00m\u001B[38;5;21;01m.\u001B[39;00m\u001B[38;5;21;01mcore\u001B[39;00m\u001B[38;5;21;01m.\u001B[39;00m\u001B[38;5;21;01marrays\u001B[39;00m\u001B[38;5;21;01m.\u001B[39;00m\u001B[38;5;21;01mstring_\u001B[39;00m \u001B[38;5;28;01mimport\u001B[39;00m StringDtype\n\u001B[0;32m--> 191\u001B[0m     \u001B[38;5;28mself\u001B[39m\u001B[38;5;241m.\u001B[39m_inferred_dtype \u001B[38;5;241m=\u001B[39m \u001B[38;5;28;43mself\u001B[39;49m\u001B[38;5;241;43m.\u001B[39;49m\u001B[43m_validate\u001B[49m\u001B[43m(\u001B[49m\u001B[43mdata\u001B[49m\u001B[43m)\u001B[49m\n\u001B[1;32m    192\u001B[0m     \u001B[38;5;28mself\u001B[39m\u001B[38;5;241m.\u001B[39m_is_categorical \u001B[38;5;241m=\u001B[39m \u001B[38;5;28misinstance\u001B[39m(data\u001B[38;5;241m.\u001B[39mdtype, CategoricalDtype)\n\u001B[1;32m    193\u001B[0m     \u001B[38;5;28mself\u001B[39m\u001B[38;5;241m.\u001B[39m_is_string \u001B[38;5;241m=\u001B[39m \u001B[38;5;28misinstance\u001B[39m(data\u001B[38;5;241m.\u001B[39mdtype, StringDtype)\n",
      "File \u001B[0;32m~/Programowanie/Python/PythonPandasUdemy/.venv/lib/python3.12/site-packages/pandas/core/strings/accessor.py:245\u001B[0m, in \u001B[0;36mStringMethods._validate\u001B[0;34m(data)\u001B[0m\n\u001B[1;32m    242\u001B[0m inferred_dtype \u001B[38;5;241m=\u001B[39m lib\u001B[38;5;241m.\u001B[39minfer_dtype(values, skipna\u001B[38;5;241m=\u001B[39m\u001B[38;5;28;01mTrue\u001B[39;00m)\n\u001B[1;32m    244\u001B[0m \u001B[38;5;28;01mif\u001B[39;00m inferred_dtype \u001B[38;5;129;01mnot\u001B[39;00m \u001B[38;5;129;01min\u001B[39;00m allowed_types:\n\u001B[0;32m--> 245\u001B[0m     \u001B[38;5;28;01mraise\u001B[39;00m \u001B[38;5;167;01mAttributeError\u001B[39;00m(\u001B[38;5;124m\"\u001B[39m\u001B[38;5;124mCan only use .str accessor with string values!\u001B[39m\u001B[38;5;124m\"\u001B[39m)\n\u001B[1;32m    246\u001B[0m \u001B[38;5;28;01mreturn\u001B[39;00m inferred_dtype\n",
      "\u001B[0;31mAttributeError\u001B[0m: Can only use .str accessor with string values!"
     ]
    }
   ],
   "source": [
    "surveysTimes = surveysTimes.str\n",
    "surveysTimes.head()"
   ],
   "metadata": {
    "collapsed": false,
    "ExecuteTime": {
     "end_time": "2024-03-28T11:27:08.496623Z",
     "start_time": "2024-03-28T11:27:08.471601Z"
    }
   },
   "id": "b76e70a30cf24b44",
   "execution_count": 11
  },
  {
   "cell_type": "markdown",
   "source": [
    "\n",
    "8. Zmieniamy zdanie. Chcemy, aby teksty były zapisane wielkimi literami. Tym razem wykorzystaj do tego wyrażenie lambda. Zmiany znowu maja być zapisane do surveysTime. Wyświetl nagłówek."
   ],
   "metadata": {
    "collapsed": false
   },
   "id": "544c202838c915d0"
  },
  {
   "cell_type": "code",
   "outputs": [],
   "source": [],
   "metadata": {
    "collapsed": false,
    "ExecuteTime": {
     "end_time": "2024-03-28T10:59:11.734617Z",
     "start_time": "2024-03-28T10:59:11.733505Z"
    }
   },
   "id": "4ea583a886c311d4",
   "execution_count": 2
  },
  {
   "cell_type": "markdown",
   "source": [],
   "metadata": {
    "collapsed": false
   },
   "id": "9ba113226a299f63"
  },
  {
   "cell_type": "markdown",
   "source": [
    "\n",
    "9. Napisz funkcję ChangeDescription, która jako argument przyjmie napis. Jeżeli w tej zmiennej znajduje się tekst 'LESS THAN 30 MINUTES' to zwróć 'LESS THAN HALF HOUR', a w przeciwnym razie zwróć oryginalną wartość przekazaną w argumencie."
   ],
   "metadata": {
    "collapsed": false
   },
   "id": "ec907d00760f8b85"
  },
  {
   "cell_type": "code",
   "outputs": [],
   "source": [],
   "metadata": {
    "collapsed": false,
    "ExecuteTime": {
     "end_time": "2024-03-28T10:59:11.736175Z",
     "start_time": "2024-03-28T10:59:11.735053Z"
    }
   },
   "id": "bb82e56aebcde20c",
   "execution_count": 2
  },
  {
   "cell_type": "markdown",
   "source": [
    "\n",
    "10. Przetestuj funkcję przekazując do niej różne napisy."
   ],
   "metadata": {
    "collapsed": false
   },
   "id": "7cd2c56e727287de"
  },
  {
   "cell_type": "code",
   "outputs": [],
   "source": [],
   "metadata": {
    "collapsed": false,
    "ExecuteTime": {
     "end_time": "2024-03-28T10:59:11.739066Z",
     "start_time": "2024-03-28T10:59:11.737955Z"
    }
   },
   "id": "e372ef9db8838c72",
   "execution_count": 2
  },
  {
   "cell_type": "markdown",
   "source": [
    "11. Zastosuj funkcję ChangeDescription do serii surveysTime. Wyświetl nagłówek"
   ],
   "metadata": {
    "collapsed": false
   },
   "id": "f494d5b5dac0b8a7"
  },
  {
   "cell_type": "code",
   "outputs": [],
   "source": [],
   "metadata": {
    "collapsed": false,
    "ExecuteTime": {
     "end_time": "2024-03-28T10:59:11.740862Z",
     "start_time": "2024-03-28T10:59:11.739664Z"
    }
   },
   "id": "8aeca5f240fb42f3",
   "execution_count": 2
  },
  {
   "cell_type": "markdown",
   "source": [
    "12. Wyciągnij wniosek na temat \"wychodzenia na świeże powietrze\""
   ],
   "metadata": {
    "collapsed": false
   },
   "id": "1cca90d4e0df16cc"
  },
  {
   "cell_type": "code",
   "outputs": [],
   "source": [],
   "metadata": {
    "collapsed": false,
    "ExecuteTime": {
     "end_time": "2024-03-28T10:59:11.742635Z",
     "start_time": "2024-03-28T10:59:11.741505Z"
    }
   },
   "id": "2def10890cd54563",
   "execution_count": 2
  }
 ],
 "metadata": {
  "kernelspec": {
   "display_name": "Python 3",
   "language": "python",
   "name": "python3"
  },
  "language_info": {
   "codemirror_mode": {
    "name": "ipython",
    "version": 2
   },
   "file_extension": ".py",
   "mimetype": "text/x-python",
   "name": "python",
   "nbconvert_exporter": "python",
   "pygments_lexer": "ipython2",
   "version": "2.7.6"
  }
 },
 "nbformat": 4,
 "nbformat_minor": 5
}
