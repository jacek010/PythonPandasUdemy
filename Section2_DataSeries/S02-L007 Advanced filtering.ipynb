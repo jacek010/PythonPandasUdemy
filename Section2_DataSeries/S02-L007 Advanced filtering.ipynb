{
 "cells": [
  {
   "cell_type": "code",
   "execution_count": 6,
   "id": "initial_id",
   "metadata": {
    "collapsed": true,
    "ExecuteTime": {
     "end_time": "2024-03-21T18:03:37.826659Z",
     "start_time": "2024-03-21T18:03:37.823994Z"
    }
   },
   "outputs": [],
   "source": [
    "import pandas as pd\n",
    "import numpy as np\n",
    "import matplotlib.pyplot as plt\n",
    "import math"
   ]
  },
  {
   "cell_type": "code",
   "outputs": [],
   "source": [
    "namesList = ['Albania','Austria','Belarus', 'Belgium','Bulgaria','Croatia','Cyprus','Czech Republic','Denmark','Estonia', 'Finland','France','Germany','Greece','Hungary','Iceland','Ireland','Italy', 'Latvia','Lithuania','Luxembourg','Macedonia','Malta','Montenegro','Netherlands', 'Norway','Poland','Portugal','Romania','Russia','Serbia','Slovenia','Spain', 'Sweden','Switzerland','United Kingdom','Turkey','Ukraine']\n",
    "\n",
    "energy2010List = [1947,8347,3564,8369,4560,3814,4623,6348,6328,6506,16483,7736,7264,5318,3876, 51440,5911,5494,3230,3471,16830,3521,4171,5420,7010,24891,3797,4959,2551, 6410,4359,6521,5707,14934,8175,2498,3550,5701]\n",
    "\n",
    "energy2012List = [2118,8507,3698,7987,4762,3819,4057,6305,6039,6689,15687,7344,7270,5511,3919, 53203,5665,5398,3588,3608,14696,3626,4761,5416,6871,23658,3899,4736,2604, 6617,4387,6778,5573,14290,7886,2794,3641,5452]"
   ],
   "metadata": {
    "collapsed": false,
    "ExecuteTime": {
     "end_time": "2024-03-21T18:03:37.831976Z",
     "start_time": "2024-03-21T18:03:37.828332Z"
    }
   },
   "id": "9f370f8fd3c7109f",
   "execution_count": 7
  },
  {
   "cell_type": "code",
   "outputs": [
    {
     "data": {
      "text/plain": "0            Albania\n1            Austria\n2            Belarus\n3            Belgium\n4           Bulgaria\n5            Croatia\n6             Cyprus\n7     Czech Republic\n8            Denmark\n9            Estonia\n10           Finland\n11            France\n12           Germany\n13            Greece\n14           Hungary\n15           Iceland\n16           Ireland\n17             Italy\n18            Latvia\n19         Lithuania\n20        Luxembourg\n21         Macedonia\n22             Malta\n23        Montenegro\n24       Netherlands\n25            Norway\n26            Poland\n27          Portugal\n28           Romania\n29            Russia\n30            Serbia\n31          Slovenia\n32             Spain\n33            Sweden\n34       Switzerland\n35    United Kingdom\n36            Turkey\n37           Ukraine\ndtype: object"
     },
     "execution_count": 8,
     "metadata": {},
     "output_type": "execute_result"
    }
   ],
   "source": [
    "namesSeries = pd.Series(namesList)\n",
    "namesSeries"
   ],
   "metadata": {
    "collapsed": false,
    "ExecuteTime": {
     "end_time": "2024-03-21T18:03:37.836513Z",
     "start_time": "2024-03-21T18:03:37.833236Z"
    }
   },
   "id": "24c690e4da50cfaf",
   "execution_count": 8
  },
  {
   "cell_type": "code",
   "outputs": [
    {
     "data": {
      "text/plain": "0      1947\n1      8347\n2      3564\n3      8369\n4      4560\n5      3814\n6      4623\n7      6348\n8      6328\n9      6506\n10    16483\n11     7736\n12     7264\n13     5318\n14     3876\n15    51440\n16     5911\n17     5494\n18     3230\n19     3471\n20    16830\n21     3521\n22     4171\n23     5420\n24     7010\n25    24891\n26     3797\n27     4959\n28     2551\n29     6410\n30     4359\n31     6521\n32     5707\n33    14934\n34     8175\n35     2498\n36     3550\n37     5701\ndtype: int64"
     },
     "execution_count": 9,
     "metadata": {},
     "output_type": "execute_result"
    }
   ],
   "source": [
    "energy2010Series = pd.Series(energy2010List)\n",
    "energy2010Series"
   ],
   "metadata": {
    "collapsed": false,
    "ExecuteTime": {
     "end_time": "2024-03-21T18:03:37.840382Z",
     "start_time": "2024-03-21T18:03:37.837456Z"
    }
   },
   "id": "b9ab3569859e4ffc",
   "execution_count": 9
  },
  {
   "cell_type": "code",
   "outputs": [
    {
     "data": {
      "text/plain": "0      2118\n1      8507\n2      3698\n3      7987\n4      4762\n5      3819\n6      4057\n7      6305\n8      6039\n9      6689\n10    15687\n11     7344\n12     7270\n13     5511\n14     3919\n15    53203\n16     5665\n17     5398\n18     3588\n19     3608\n20    14696\n21     3626\n22     4761\n23     5416\n24     6871\n25    23658\n26     3899\n27     4736\n28     2604\n29     6617\n30     4387\n31     6778\n32     5573\n33    14290\n34     7886\n35     2794\n36     3641\n37     5452\ndtype: int64"
     },
     "execution_count": 10,
     "metadata": {},
     "output_type": "execute_result"
    }
   ],
   "source": [
    "energy2012Series = pd.Series(energy2012List)\n",
    "energy2012Series"
   ],
   "metadata": {
    "collapsed": false,
    "ExecuteTime": {
     "end_time": "2024-03-21T18:03:37.844762Z",
     "start_time": "2024-03-21T18:03:37.841753Z"
    }
   },
   "id": "496b5bb8f7b26217",
   "execution_count": 10
  },
  {
   "cell_type": "code",
   "outputs": [
    {
     "name": "stdout",
     "output_type": "stream",
     "text": [
      "Mean 2010: 7779.8421052631575  |  Mean 2012: 7706.815789473684\n"
     ]
    }
   ],
   "source": [
    "mean2010 =energy2010Series.mean()\n",
    "mean2012 =energy2012Series.mean()\n",
    "print(f\"Mean 2010: {mean2010}  |  Mean 2012: {mean2012}\")"
   ],
   "metadata": {
    "collapsed": false,
    "ExecuteTime": {
     "end_time": "2024-03-21T18:06:11.790692Z",
     "start_time": "2024-03-21T18:06:11.787839Z"
    }
   },
   "id": "9e99290ca08df7a6",
   "execution_count": 14
  },
  {
   "cell_type": "markdown",
   "source": [],
   "metadata": {
    "collapsed": false
   },
   "id": "81193a693b8f141a"
  },
  {
   "cell_type": "code",
   "outputs": [
    {
     "data": {
      "text/plain": "1         Austria\n3         Belgium\n10        Finland\n15        Iceland\n20     Luxembourg\n25         Norway\n33         Sweden\n34    Switzerland\ndtype: object"
     },
     "execution_count": 16,
     "metadata": {},
     "output_type": "execute_result"
    }
   ],
   "source": [
    "filterAboveMean2010 = energy2010Series > mean2010\n",
    "filterAboveMean2012 = energy2012Series > mean2012\n",
    "namesSeries.where(filterAboveMean2010 & filterAboveMean2012).dropna()"
   ],
   "metadata": {
    "collapsed": false,
    "ExecuteTime": {
     "end_time": "2024-03-21T18:09:05.086294Z",
     "start_time": "2024-03-21T18:09:05.080492Z"
    }
   },
   "id": "ebf4fa4515dd80ed",
   "execution_count": 16
  },
  {
   "cell_type": "code",
   "outputs": [
    {
     "data": {
      "text/plain": "Series([], dtype: object)"
     },
     "execution_count": 18,
     "metadata": {},
     "output_type": "execute_result"
    }
   ],
   "source": [
    "filterBelowMean2010 = energy2010Series < mean2010\n",
    "filterBelowMean2012 = energy2012Series < mean2012\n",
    "namesSeries.where(filterBelowMean2010 & filterAboveMean2012).dropna()"
   ],
   "metadata": {
    "collapsed": false,
    "ExecuteTime": {
     "end_time": "2024-03-21T18:11:27.654391Z",
     "start_time": "2024-03-21T18:11:27.649167Z"
    }
   },
   "id": "7133a56c84ee178e",
   "execution_count": 18
  },
  {
   "cell_type": "code",
   "outputs": [],
   "source": [],
   "metadata": {
    "collapsed": false
   },
   "id": "60e3d0561703d9a4"
  }
 ],
 "metadata": {
  "kernelspec": {
   "display_name": "Python 3",
   "language": "python",
   "name": "python3"
  },
  "language_info": {
   "codemirror_mode": {
    "name": "ipython",
    "version": 2
   },
   "file_extension": ".py",
   "mimetype": "text/x-python",
   "name": "python",
   "nbconvert_exporter": "python",
   "pygments_lexer": "ipython2",
   "version": "2.7.6"
  }
 },
 "nbformat": 4,
 "nbformat_minor": 5
}
